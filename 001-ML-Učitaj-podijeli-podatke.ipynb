{
 "cells": [
  {
   "cell_type": "code",
   "execution_count": 1,
   "metadata": {
    "id": "hnouf7yTAvlY"
   },
   "outputs": [],
   "source": [
    "import pandas as pd"
   ]
  },
  {
   "cell_type": "code",
   "execution_count": null,
   "metadata": {
    "colab": {
     "base_uri": "https://localhost:8080/",
     "height": 143
    },
    "id": "87t_hLWrG6JX",
    "outputId": "2612373d-1e98-4c52-ba46-2f10e80190ec"
   },
   "outputs": [
    {
     "data": {
      "text/html": [
       "<div>\n",
       "<style scoped>\n",
       "    .dataframe tbody tr th:only-of-type {\n",
       "        vertical-align: middle;\n",
       "    }\n",
       "\n",
       "    .dataframe tbody tr th {\n",
       "        vertical-align: top;\n",
       "    }\n",
       "\n",
       "    .dataframe thead th {\n",
       "        text-align: right;\n",
       "    }\n",
       "</style>\n",
       "<table border=\"1\" class=\"dataframe\">\n",
       "  <thead>\n",
       "    <tr style=\"text-align: right;\">\n",
       "      <th></th>\n",
       "      <th>open</th>\n",
       "      <th>high</th>\n",
       "      <th>low</th>\n",
       "      <th>close</th>\n",
       "    </tr>\n",
       "  </thead>\n",
       "  <tbody>\n",
       "    <tr>\n",
       "      <th>0</th>\n",
       "      <td>382.38</td>\n",
       "      <td>756.93</td>\n",
       "      <td>309.33</td>\n",
       "      <td>452.66</td>\n",
       "    </tr>\n",
       "    <tr>\n",
       "      <th>1</th>\n",
       "      <td>448.49</td>\n",
       "      <td>519.28</td>\n",
       "      <td>364.05</td>\n",
       "      <td>364.05</td>\n",
       "    </tr>\n",
       "    <tr>\n",
       "      <th>2</th>\n",
       "      <td>362.18</td>\n",
       "      <td>386.93</td>\n",
       "      <td>233.05</td>\n",
       "      <td>233.05</td>\n",
       "    </tr>\n",
       "  </tbody>\n",
       "</table>\n",
       "</div>"
      ],
      "text/plain": [
       "     open    high     low   close\n",
       "0  382.38  756.93  309.33  452.66\n",
       "1  448.49  519.28  364.05  364.05\n",
       "2  362.18  386.93  233.05  233.05"
      ]
     },
     "execution_count": 10,
     "metadata": {},
     "output_type": "execute_result"
    }
   ],
   "source": [
    "data = pd.read_csv('skupovi_podataka/bitcoin.csv', sep=';', names=['open', 'high', 'low', 'close']) # sep=';' ako nije defaultni separator.\n",
    "data.head(3)"
   ]
  },
  {
   "cell_type": "code",
   "execution_count": null,
   "metadata": {
    "colab": {
     "base_uri": "https://localhost:8080/"
    },
    "id": "0yZiB2CLIE9X",
    "outputId": "7c1b02d9-d0db-4599-f0fd-2aeb4df0f107"
   },
   "outputs": [
    {
     "data": {
      "text/plain": [
       "open      890.97\n",
       "high     1040.49\n",
       "low       764.02\n",
       "close     900.78\n",
       "dtype: float64"
      ]
     },
     "execution_count": 21,
     "metadata": {},
     "output_type": "execute_result"
    }
   ],
   "source": [
    "data.median()"
   ]
  },
  {
   "cell_type": "markdown",
   "metadata": {
    "id": "Uo0KpRHrPMou"
   },
   "source": [
    "2. Izvezene podatke potrebno je učitati u Notebook koristeći biblioteku Pandas. Napraviti novi stupac „status“ koji će biti indikator je li BitCoin u tom danu pao u odnosu na prošli dan. Ako je vrijednost u stupcu „high“ za neki redak manja nego u prethodnom retku upiši broj -1, ako je ista ili je prvi redak u pitanju upiši 0, a ako je veća onda upiši 1."
   ]
  },
  {
   "cell_type": "code",
   "execution_count": null,
   "metadata": {
    "id": "9ZNtMq8vPfpW"
   },
   "outputs": [],
   "source": [
    "statuses = [0] * len(data)\n",
    "\n",
    "for (index, broj) in enumerate(data.high):\n",
    "  if index == 0:\n",
    "    statuses[index] = 0 # mogli smo i bez ovoga\n",
    "    continue\n",
    "\n",
    "  if data.high[index - 1] < data.high[index]:\n",
    "    statuses[index] = 1\n",
    "  elif data.high[index - 1] > data.high[index]:\n",
    "    statuses[index] = -1\n",
    "  else:\n",
    "    statuses[index] = 0\n",
    "\n",
    "data.status = statuses"
   ]
  },
  {
   "cell_type": "code",
   "execution_count": null,
   "metadata": {
    "colab": {
     "base_uri": "https://localhost:8080/",
     "height": 143
    },
    "id": "CpGdQCnEQrfb",
    "outputId": "1043403a-d7d5-4145-819e-f338edcc2f65"
   },
   "outputs": [
    {
     "data": {
      "text/html": [
       "<div>\n",
       "<style scoped>\n",
       "    .dataframe tbody tr th:only-of-type {\n",
       "        vertical-align: middle;\n",
       "    }\n",
       "\n",
       "    .dataframe tbody tr th {\n",
       "        vertical-align: top;\n",
       "    }\n",
       "\n",
       "    .dataframe thead th {\n",
       "        text-align: right;\n",
       "    }\n",
       "</style>\n",
       "<table border=\"1\" class=\"dataframe\">\n",
       "  <thead>\n",
       "    <tr style=\"text-align: right;\">\n",
       "      <th></th>\n",
       "      <th>open</th>\n",
       "      <th>high</th>\n",
       "      <th>low</th>\n",
       "      <th>close</th>\n",
       "      <th>status</th>\n",
       "    </tr>\n",
       "  </thead>\n",
       "  <tbody>\n",
       "    <tr>\n",
       "      <th>0</th>\n",
       "      <td>382.38</td>\n",
       "      <td>756.93</td>\n",
       "      <td>309.33</td>\n",
       "      <td>452.66</td>\n",
       "      <td>0</td>\n",
       "    </tr>\n",
       "    <tr>\n",
       "      <th>1</th>\n",
       "      <td>448.49</td>\n",
       "      <td>519.28</td>\n",
       "      <td>364.05</td>\n",
       "      <td>364.05</td>\n",
       "      <td>-1</td>\n",
       "    </tr>\n",
       "    <tr>\n",
       "      <th>2</th>\n",
       "      <td>362.18</td>\n",
       "      <td>386.93</td>\n",
       "      <td>233.05</td>\n",
       "      <td>233.05</td>\n",
       "      <td>-1</td>\n",
       "    </tr>\n",
       "  </tbody>\n",
       "</table>\n",
       "</div>"
      ],
      "text/plain": [
       "     open    high     low   close  status\n",
       "0  382.38  756.93  309.33  452.66       0\n",
       "1  448.49  519.28  364.05  364.05      -1\n",
       "2  362.18  386.93  233.05  233.05      -1"
      ]
     },
     "execution_count": 36,
     "metadata": {},
     "output_type": "execute_result"
    }
   ],
   "source": [
    "data.head(3)"
   ]
  },
  {
   "cell_type": "markdown",
   "metadata": {
    "id": "vT0RtsunT5W4"
   },
   "source": [
    "3. Dodati još jedan stupac „random“ i za svaki redak prođi i generiraj nasumičan broj koristeći sljedeće dvije linije koda: | from random import randint | randint(0, 100). Ako dobiveni broj nije paran generiraj ga ponovno sve dok se ne generira para"
   ]
  },
  {
   "cell_type": "code",
   "execution_count": null,
   "metadata": {
    "colab": {
     "base_uri": "https://localhost:8080/"
    },
    "id": "17Vk49FnT6qc",
    "outputId": "12b9f62a-1a76-4fc8-ecc4-ab42a843931a"
   },
   "outputs": [
    {
     "data": {
      "text/plain": [
       "39"
      ]
     },
     "execution_count": 40,
     "metadata": {},
     "output_type": "execute_result"
    }
   ],
   "source": [
    "from random import randint\n",
    "randint(0, 100)"
   ]
  },
  {
   "cell_type": "code",
   "execution_count": null,
   "metadata": {
    "id": "QJMSJi-wUXvn"
   },
   "outputs": [],
   "source": [
    "def generiraj_paran_slucajan_broj():\n",
    "  broj = 1\n",
    "\n",
    "  while broj % 2 == 1:\n",
    "    broj = randint(0, 100)\n",
    "\n",
    "  return broj"
   ]
  },
  {
   "cell_type": "code",
   "execution_count": null,
   "metadata": {
    "id": "cv3BWPMqUGB7"
   },
   "outputs": [],
   "source": [
    "random_numbers = [0] * len(data)\n",
    "\n",
    "for (index, number) in enumerate(random_numbers):\n",
    "  random_numbers[index] = generiraj_paran_slucajan_broj()\n",
    "\n",
    "data['random'] = random_numbers"
   ]
  },
  {
   "cell_type": "code",
   "execution_count": null,
   "metadata": {
    "colab": {
     "base_uri": "https://localhost:8080/",
     "height": 206
    },
    "id": "ip7Jw23KVVp3",
    "outputId": "c723e8b3-8ead-4ec9-e32a-d95cac7d877e"
   },
   "outputs": [
    {
     "data": {
      "text/html": [
       "<div>\n",
       "<style scoped>\n",
       "    .dataframe tbody tr th:only-of-type {\n",
       "        vertical-align: middle;\n",
       "    }\n",
       "\n",
       "    .dataframe tbody tr th {\n",
       "        vertical-align: top;\n",
       "    }\n",
       "\n",
       "    .dataframe thead th {\n",
       "        text-align: right;\n",
       "    }\n",
       "</style>\n",
       "<table border=\"1\" class=\"dataframe\">\n",
       "  <thead>\n",
       "    <tr style=\"text-align: right;\">\n",
       "      <th></th>\n",
       "      <th>open</th>\n",
       "      <th>high</th>\n",
       "      <th>low</th>\n",
       "      <th>close</th>\n",
       "      <th>status</th>\n",
       "      <th>random</th>\n",
       "    </tr>\n",
       "  </thead>\n",
       "  <tbody>\n",
       "    <tr>\n",
       "      <th>0</th>\n",
       "      <td>382.38</td>\n",
       "      <td>756.93</td>\n",
       "      <td>309.33</td>\n",
       "      <td>452.66</td>\n",
       "      <td>0</td>\n",
       "      <td>14</td>\n",
       "    </tr>\n",
       "    <tr>\n",
       "      <th>1</th>\n",
       "      <td>448.49</td>\n",
       "      <td>519.28</td>\n",
       "      <td>364.05</td>\n",
       "      <td>364.05</td>\n",
       "      <td>-1</td>\n",
       "      <td>46</td>\n",
       "    </tr>\n",
       "    <tr>\n",
       "      <th>2</th>\n",
       "      <td>362.18</td>\n",
       "      <td>386.93</td>\n",
       "      <td>233.05</td>\n",
       "      <td>233.05</td>\n",
       "      <td>-1</td>\n",
       "      <td>8</td>\n",
       "    </tr>\n",
       "    <tr>\n",
       "      <th>3</th>\n",
       "      <td>231.11</td>\n",
       "      <td>273.04</td>\n",
       "      <td>200.98</td>\n",
       "      <td>213.15</td>\n",
       "      <td>-1</td>\n",
       "      <td>34</td>\n",
       "    </tr>\n",
       "    <tr>\n",
       "      <th>4</th>\n",
       "      <td>212.18</td>\n",
       "      <td>223.70</td>\n",
       "      <td>203.44</td>\n",
       "      <td>220.66</td>\n",
       "      <td>-1</td>\n",
       "      <td>80</td>\n",
       "    </tr>\n",
       "  </tbody>\n",
       "</table>\n",
       "</div>"
      ],
      "text/plain": [
       "     open    high     low   close  status  random\n",
       "0  382.38  756.93  309.33  452.66       0      14\n",
       "1  448.49  519.28  364.05  364.05      -1      46\n",
       "2  362.18  386.93  233.05  233.05      -1       8\n",
       "3  231.11  273.04  200.98  213.15      -1      34\n",
       "4  212.18  223.70  203.44  220.66      -1      80"
      ]
     },
     "execution_count": 45,
     "metadata": {},
     "output_type": "execute_result"
    }
   ],
   "source": [
    "data.head()"
   ]
  },
  {
   "cell_type": "markdown",
   "metadata": {
    "id": "hMf9F5k0WgAi"
   },
   "source": [
    "Uzeti postojeću tablicu \"data\" i podijeliti njene podatke na trening i test skup. Podatke je prije podjele potrebno \"izmiješati\" (shuffle).\n",
    "\n",
    "Omjer bi trebao biti 80:20."
   ]
  },
  {
   "cell_type": "code",
   "execution_count": null,
   "metadata": {
    "colab": {
     "base_uri": "https://localhost:8080/"
    },
    "id": "yZ1s_3Y1WqN5",
    "outputId": "ee33225f-f78c-45e3-ad80-8b4499df2508"
   },
   "outputs": [
    {
     "data": {
      "text/plain": [
       "203"
      ]
     },
     "execution_count": 54,
     "metadata": {},
     "output_type": "execute_result"
    }
   ],
   "source": [
    "prvi_dio = int(len(data) * 0.8)\n",
    "drugi_dio = len(data) - prvi_dio\n",
    "prvi_dio + drugi_dio"
   ]
  },
  {
   "cell_type": "code",
   "execution_count": null,
   "metadata": {
    "colab": {
     "base_uri": "https://localhost:8080/",
     "height": 206
    },
    "id": "ZqvMtuJSYwRM",
    "outputId": "3bbd2faf-6a5a-43ee-97c6-af81e91e8300"
   },
   "outputs": [
    {
     "data": {
      "text/html": [
       "<div>\n",
       "<style scoped>\n",
       "    .dataframe tbody tr th:only-of-type {\n",
       "        vertical-align: middle;\n",
       "    }\n",
       "\n",
       "    .dataframe tbody tr th {\n",
       "        vertical-align: top;\n",
       "    }\n",
       "\n",
       "    .dataframe thead th {\n",
       "        text-align: right;\n",
       "    }\n",
       "</style>\n",
       "<table border=\"1\" class=\"dataframe\">\n",
       "  <thead>\n",
       "    <tr style=\"text-align: right;\">\n",
       "      <th></th>\n",
       "      <th>open</th>\n",
       "      <th>high</th>\n",
       "      <th>low</th>\n",
       "      <th>close</th>\n",
       "      <th>status</th>\n",
       "      <th>random</th>\n",
       "    </tr>\n",
       "  </thead>\n",
       "  <tbody>\n",
       "    <tr>\n",
       "      <th>133</th>\n",
       "      <td>1616.99</td>\n",
       "      <td>1702.53</td>\n",
       "      <td>1497.94</td>\n",
       "      <td>1607.65</td>\n",
       "      <td>1</td>\n",
       "      <td>54</td>\n",
       "    </tr>\n",
       "    <tr>\n",
       "      <th>90</th>\n",
       "      <td>449.37</td>\n",
       "      <td>454.07</td>\n",
       "      <td>431.76</td>\n",
       "      <td>439.05</td>\n",
       "      <td>-1</td>\n",
       "      <td>80</td>\n",
       "    </tr>\n",
       "    <tr>\n",
       "      <th>28</th>\n",
       "      <td>549.32</td>\n",
       "      <td>604.69</td>\n",
       "      <td>535.92</td>\n",
       "      <td>575.21</td>\n",
       "      <td>1</td>\n",
       "      <td>38</td>\n",
       "    </tr>\n",
       "    <tr>\n",
       "      <th>24</th>\n",
       "      <td>641.88</td>\n",
       "      <td>646.93</td>\n",
       "      <td>622.36</td>\n",
       "      <td>625.32</td>\n",
       "      <td>-1</td>\n",
       "      <td>54</td>\n",
       "    </tr>\n",
       "    <tr>\n",
       "      <th>95</th>\n",
       "      <td>619.91</td>\n",
       "      <td>635.72</td>\n",
       "      <td>579.13</td>\n",
       "      <td>630.70</td>\n",
       "      <td>-1</td>\n",
       "      <td>50</td>\n",
       "    </tr>\n",
       "  </tbody>\n",
       "</table>\n",
       "</div>"
      ],
      "text/plain": [
       "        open     high      low    close  status  random\n",
       "133  1616.99  1702.53  1497.94  1607.65       1      54\n",
       "90    449.37   454.07   431.76   439.05      -1      80\n",
       "28    549.32   604.69   535.92   575.21       1      38\n",
       "24    641.88   646.93   622.36   625.32      -1      54\n",
       "95    619.91   635.72   579.13   630.70      -1      50"
      ]
     },
     "execution_count": 59,
     "metadata": {},
     "output_type": "execute_result"
    }
   ],
   "source": [
    "shuffle = data.sample(frac=1)\n",
    "\n",
    "trening_skup = shuffle.head(prvi_dio)\n",
    "test_skup = shuffle.tail(drugi_dio)"
   ]
  },
  {
   "cell_type": "code",
   "execution_count": null,
   "metadata": {
    "colab": {
     "base_uri": "https://localhost:8080/"
    },
    "id": "S4vvZepcZdpd",
    "outputId": "62c9b16f-4bf9-4226-f8b2-6ee077a928ee"
   },
   "outputs": [
    {
     "data": {
      "text/plain": [
       "133    1\n",
       "90    -1\n",
       "28     1\n",
       "24    -1\n",
       "95    -1\n",
       "Name: status, dtype: int64"
      ]
     },
     "execution_count": 61,
     "metadata": {},
     "output_type": "execute_result"
    }
   ],
   "source": [
    "trening_skup_X = trening_skup[['open', 'high', 'low', 'close', 'random']]\n",
    "trening_skup_y = trening_skup['status']\n",
    "\n",
    "test_skup_X = test_skup[['open', 'high', 'low', 'close', 'random']]\n",
    "test_skup_y = test_skup['status']\n",
    "\n",
    "trening_skup_y.head()"
   ]
  }
 ],
 "metadata": {
  "colab": {
   "name": "UI04.ipynb",
   "provenance": []
  },
  "kernelspec": {
   "display_name": "Python 3",
   "language": "python",
   "name": "python3"
  },
  "language_info": {
   "codemirror_mode": {
    "name": "ipython",
    "version": 3
   },
   "file_extension": ".py",
   "mimetype": "text/x-python",
   "name": "python",
   "nbconvert_exporter": "python",
   "pygments_lexer": "ipython3",
   "version": "3.6.13"
  }
 },
 "nbformat": 4,
 "nbformat_minor": 1
}

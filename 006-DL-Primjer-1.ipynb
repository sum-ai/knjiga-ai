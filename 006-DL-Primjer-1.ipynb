{
 "cells": [
  {
   "cell_type": "code",
   "execution_count": 72,
   "metadata": {
    "colab": {
     "base_uri": "https://localhost:8080/",
     "height": 206
    },
    "id": "BjAbURl-DsIb",
    "outputId": "944a4ea5-20b2-4dad-e2b6-a2fdca94e5de"
   },
   "outputs": [
    {
     "data": {
      "text/html": [
       "<div>\n",
       "<style scoped>\n",
       "    .dataframe tbody tr th:only-of-type {\n",
       "        vertical-align: middle;\n",
       "    }\n",
       "\n",
       "    .dataframe tbody tr th {\n",
       "        vertical-align: top;\n",
       "    }\n",
       "\n",
       "    .dataframe thead th {\n",
       "        text-align: right;\n",
       "    }\n",
       "</style>\n",
       "<table border=\"1\" class=\"dataframe\">\n",
       "  <thead>\n",
       "    <tr style=\"text-align: right;\">\n",
       "      <th></th>\n",
       "      <th>Country</th>\n",
       "      <th>Region</th>\n",
       "      <th>HappinessRank</th>\n",
       "      <th>HappinessScore</th>\n",
       "      <th>StandardError</th>\n",
       "      <th>Economy</th>\n",
       "      <th>Family</th>\n",
       "      <th>Health</th>\n",
       "      <th>Freedom</th>\n",
       "      <th>GovCorruption</th>\n",
       "      <th>Generosity</th>\n",
       "      <th>DystopiaResidual</th>\n",
       "    </tr>\n",
       "  </thead>\n",
       "  <tbody>\n",
       "    <tr>\n",
       "      <th>0</th>\n",
       "      <td>Switzerland</td>\n",
       "      <td>Western Europe</td>\n",
       "      <td>1</td>\n",
       "      <td>7.587</td>\n",
       "      <td>0.03411</td>\n",
       "      <td>1.39651</td>\n",
       "      <td>1.34951</td>\n",
       "      <td>0.94143</td>\n",
       "      <td>0.66557</td>\n",
       "      <td>0.41978</td>\n",
       "      <td>0.29678</td>\n",
       "      <td>2.51738</td>\n",
       "    </tr>\n",
       "    <tr>\n",
       "      <th>1</th>\n",
       "      <td>Iceland</td>\n",
       "      <td>Western Europe</td>\n",
       "      <td>2</td>\n",
       "      <td>7.561</td>\n",
       "      <td>0.04884</td>\n",
       "      <td>1.30232</td>\n",
       "      <td>1.40223</td>\n",
       "      <td>0.94784</td>\n",
       "      <td>0.62877</td>\n",
       "      <td>0.14145</td>\n",
       "      <td>0.43630</td>\n",
       "      <td>2.70201</td>\n",
       "    </tr>\n",
       "    <tr>\n",
       "      <th>2</th>\n",
       "      <td>Denmark</td>\n",
       "      <td>Western Europe</td>\n",
       "      <td>3</td>\n",
       "      <td>7.527</td>\n",
       "      <td>0.03328</td>\n",
       "      <td>1.32548</td>\n",
       "      <td>1.36058</td>\n",
       "      <td>0.87464</td>\n",
       "      <td>0.64938</td>\n",
       "      <td>0.48357</td>\n",
       "      <td>0.34139</td>\n",
       "      <td>2.49204</td>\n",
       "    </tr>\n",
       "    <tr>\n",
       "      <th>3</th>\n",
       "      <td>Norway</td>\n",
       "      <td>Western Europe</td>\n",
       "      <td>4</td>\n",
       "      <td>7.522</td>\n",
       "      <td>0.03880</td>\n",
       "      <td>1.45900</td>\n",
       "      <td>1.33095</td>\n",
       "      <td>0.88521</td>\n",
       "      <td>0.66973</td>\n",
       "      <td>0.36503</td>\n",
       "      <td>0.34699</td>\n",
       "      <td>2.46531</td>\n",
       "    </tr>\n",
       "    <tr>\n",
       "      <th>4</th>\n",
       "      <td>Canada</td>\n",
       "      <td>North America</td>\n",
       "      <td>5</td>\n",
       "      <td>7.427</td>\n",
       "      <td>0.03553</td>\n",
       "      <td>1.32629</td>\n",
       "      <td>1.32261</td>\n",
       "      <td>0.90563</td>\n",
       "      <td>0.63297</td>\n",
       "      <td>0.32957</td>\n",
       "      <td>0.45811</td>\n",
       "      <td>2.45176</td>\n",
       "    </tr>\n",
       "  </tbody>\n",
       "</table>\n",
       "</div>"
      ],
      "text/plain": [
       "       Country          Region  HappinessRank  HappinessScore  StandardError  \\\n",
       "0  Switzerland  Western Europe              1           7.587        0.03411   \n",
       "1      Iceland  Western Europe              2           7.561        0.04884   \n",
       "2      Denmark  Western Europe              3           7.527        0.03328   \n",
       "3       Norway  Western Europe              4           7.522        0.03880   \n",
       "4       Canada   North America              5           7.427        0.03553   \n",
       "\n",
       "   Economy   Family   Health  Freedom  GovCorruption  Generosity  \\\n",
       "0  1.39651  1.34951  0.94143  0.66557        0.41978     0.29678   \n",
       "1  1.30232  1.40223  0.94784  0.62877        0.14145     0.43630   \n",
       "2  1.32548  1.36058  0.87464  0.64938        0.48357     0.34139   \n",
       "3  1.45900  1.33095  0.88521  0.66973        0.36503     0.34699   \n",
       "4  1.32629  1.32261  0.90563  0.63297        0.32957     0.45811   \n",
       "\n",
       "   DystopiaResidual  \n",
       "0           2.51738  \n",
       "1           2.70201  \n",
       "2           2.49204  \n",
       "3           2.46531  \n",
       "4           2.45176  "
      ]
     },
     "execution_count": 72,
     "metadata": {},
     "output_type": "execute_result"
    }
   ],
   "source": [
    "import pandas as pd\n",
    "data = pd.read_csv('skupovi_podataka/happiness.csv')\n",
    "data.head()"
   ]
  },
  {
   "cell_type": "code",
   "execution_count": 73,
   "metadata": {
    "id": "hAm4OApXE-CK"
   },
   "outputs": [],
   "source": [
    "categoric_columns = ['Country', 'Region'] # iako nećemo koristit Country, pretvorit ćemo sve\n",
    "\n",
    "for column in categoric_columns:\n",
    "  data[column] = data[column].astype('category').cat.codes"
   ]
  },
  {
   "cell_type": "code",
   "execution_count": 74,
   "metadata": {
    "colab": {
     "base_uri": "https://localhost:8080/",
     "height": 206
    },
    "id": "B31VkJtEFVP0",
    "outputId": "8dcd2c8b-49fe-4ef2-85a8-b1359ab6528b"
   },
   "outputs": [
    {
     "data": {
      "text/html": [
       "<div>\n",
       "<style scoped>\n",
       "    .dataframe tbody tr th:only-of-type {\n",
       "        vertical-align: middle;\n",
       "    }\n",
       "\n",
       "    .dataframe tbody tr th {\n",
       "        vertical-align: top;\n",
       "    }\n",
       "\n",
       "    .dataframe thead th {\n",
       "        text-align: right;\n",
       "    }\n",
       "</style>\n",
       "<table border=\"1\" class=\"dataframe\">\n",
       "  <thead>\n",
       "    <tr style=\"text-align: right;\">\n",
       "      <th></th>\n",
       "      <th>Country</th>\n",
       "      <th>Region</th>\n",
       "      <th>HappinessRank</th>\n",
       "      <th>HappinessScore</th>\n",
       "      <th>StandardError</th>\n",
       "      <th>Economy</th>\n",
       "      <th>Family</th>\n",
       "      <th>Health</th>\n",
       "      <th>Freedom</th>\n",
       "      <th>GovCorruption</th>\n",
       "      <th>Generosity</th>\n",
       "      <th>DystopiaResidual</th>\n",
       "    </tr>\n",
       "  </thead>\n",
       "  <tbody>\n",
       "    <tr>\n",
       "      <th>0</th>\n",
       "      <td>135</td>\n",
       "      <td>9</td>\n",
       "      <td>1</td>\n",
       "      <td>7.587</td>\n",
       "      <td>0.03411</td>\n",
       "      <td>1.39651</td>\n",
       "      <td>1.34951</td>\n",
       "      <td>0.94143</td>\n",
       "      <td>0.66557</td>\n",
       "      <td>0.41978</td>\n",
       "      <td>0.29678</td>\n",
       "      <td>2.51738</td>\n",
       "    </tr>\n",
       "    <tr>\n",
       "      <th>1</th>\n",
       "      <td>58</td>\n",
       "      <td>9</td>\n",
       "      <td>2</td>\n",
       "      <td>7.561</td>\n",
       "      <td>0.04884</td>\n",
       "      <td>1.30232</td>\n",
       "      <td>1.40223</td>\n",
       "      <td>0.94784</td>\n",
       "      <td>0.62877</td>\n",
       "      <td>0.14145</td>\n",
       "      <td>0.43630</td>\n",
       "      <td>2.70201</td>\n",
       "    </tr>\n",
       "    <tr>\n",
       "      <th>2</th>\n",
       "      <td>37</td>\n",
       "      <td>9</td>\n",
       "      <td>3</td>\n",
       "      <td>7.527</td>\n",
       "      <td>0.03328</td>\n",
       "      <td>1.32548</td>\n",
       "      <td>1.36058</td>\n",
       "      <td>0.87464</td>\n",
       "      <td>0.64938</td>\n",
       "      <td>0.48357</td>\n",
       "      <td>0.34139</td>\n",
       "      <td>2.49204</td>\n",
       "    </tr>\n",
       "    <tr>\n",
       "      <th>3</th>\n",
       "      <td>105</td>\n",
       "      <td>9</td>\n",
       "      <td>4</td>\n",
       "      <td>7.522</td>\n",
       "      <td>0.03880</td>\n",
       "      <td>1.45900</td>\n",
       "      <td>1.33095</td>\n",
       "      <td>0.88521</td>\n",
       "      <td>0.66973</td>\n",
       "      <td>0.36503</td>\n",
       "      <td>0.34699</td>\n",
       "      <td>2.46531</td>\n",
       "    </tr>\n",
       "    <tr>\n",
       "      <th>4</th>\n",
       "      <td>24</td>\n",
       "      <td>5</td>\n",
       "      <td>5</td>\n",
       "      <td>7.427</td>\n",
       "      <td>0.03553</td>\n",
       "      <td>1.32629</td>\n",
       "      <td>1.32261</td>\n",
       "      <td>0.90563</td>\n",
       "      <td>0.63297</td>\n",
       "      <td>0.32957</td>\n",
       "      <td>0.45811</td>\n",
       "      <td>2.45176</td>\n",
       "    </tr>\n",
       "  </tbody>\n",
       "</table>\n",
       "</div>"
      ],
      "text/plain": [
       "   Country  Region  HappinessRank  HappinessScore  StandardError  Economy  \\\n",
       "0      135       9              1           7.587        0.03411  1.39651   \n",
       "1       58       9              2           7.561        0.04884  1.30232   \n",
       "2       37       9              3           7.527        0.03328  1.32548   \n",
       "3      105       9              4           7.522        0.03880  1.45900   \n",
       "4       24       5              5           7.427        0.03553  1.32629   \n",
       "\n",
       "    Family   Health  Freedom  GovCorruption  Generosity  DystopiaResidual  \n",
       "0  1.34951  0.94143  0.66557        0.41978     0.29678           2.51738  \n",
       "1  1.40223  0.94784  0.62877        0.14145     0.43630           2.70201  \n",
       "2  1.36058  0.87464  0.64938        0.48357     0.34139           2.49204  \n",
       "3  1.33095  0.88521  0.66973        0.36503     0.34699           2.46531  \n",
       "4  1.32261  0.90563  0.63297        0.32957     0.45811           2.45176  "
      ]
     },
     "execution_count": 74,
     "metadata": {},
     "output_type": "execute_result"
    }
   ],
   "source": [
    "data.head()"
   ]
  },
  {
   "cell_type": "code",
   "execution_count": 75,
   "metadata": {
    "colab": {
     "base_uri": "https://localhost:8080/",
     "height": 206
    },
    "id": "ygBZCOifFmwh",
    "outputId": "f6ecef0a-0ee8-4395-dbcf-f5d544a235ba"
   },
   "outputs": [],
   "source": [
    "from sklearn.model_selection import train_test_split\n",
    "X_train, X_test, y_train, y_test = train_test_split(data[['Region', 'StandardError', 'Economy', 'Family', 'Health', 'Freedom', 'GovCorruption', 'Generosity', 'DystopiaResidual']], \n",
    "                                                    data[['HappinessScore']], test_size=0.25, random_state=2) "
   ]
  },
  {
   "cell_type": "code",
   "execution_count": 76,
   "metadata": {},
   "outputs": [],
   "source": [
    "from sklearn.preprocessing import StandardScaler\n",
    "scaler = StandardScaler()\n",
    "scaler.fit(X_train)\n",
    "\n",
    "X_train_scaled = scaler.transform(X_train)\n",
    "X_test_scaled = scaler.transform(X_test) # Moramo testni skup sklairati na isti način kao i trening skup"
   ]
  },
  {
   "cell_type": "code",
   "execution_count": 77,
   "metadata": {
    "colab": {
     "base_uri": "https://localhost:8080/"
    },
    "id": "ByMBybLETkwB",
    "outputId": "0b0a1ea2-d079-43d8-d30e-83f6202a104d"
   },
   "outputs": [
    {
     "data": {
      "text/html": [
       "<div>\n",
       "<style scoped>\n",
       "    .dataframe tbody tr th:only-of-type {\n",
       "        vertical-align: middle;\n",
       "    }\n",
       "\n",
       "    .dataframe tbody tr th {\n",
       "        vertical-align: top;\n",
       "    }\n",
       "\n",
       "    .dataframe thead th {\n",
       "        text-align: right;\n",
       "    }\n",
       "</style>\n",
       "<table border=\"1\" class=\"dataframe\">\n",
       "  <thead>\n",
       "    <tr style=\"text-align: right;\">\n",
       "      <th></th>\n",
       "      <th>HappinessScore</th>\n",
       "    </tr>\n",
       "  </thead>\n",
       "  <tbody>\n",
       "    <tr>\n",
       "      <th>12</th>\n",
       "      <td>True</td>\n",
       "    </tr>\n",
       "    <tr>\n",
       "      <th>3</th>\n",
       "      <td>True</td>\n",
       "    </tr>\n",
       "    <tr>\n",
       "      <th>152</th>\n",
       "      <td>False</td>\n",
       "    </tr>\n",
       "    <tr>\n",
       "      <th>6</th>\n",
       "      <td>True</td>\n",
       "    </tr>\n",
       "    <tr>\n",
       "      <th>120</th>\n",
       "      <td>True</td>\n",
       "    </tr>\n",
       "  </tbody>\n",
       "</table>\n",
       "</div>"
      ],
      "text/plain": [
       "     HappinessScore\n",
       "12             True\n",
       "3              True\n",
       "152           False\n",
       "6              True\n",
       "120            True"
      ]
     },
     "execution_count": 77,
     "metadata": {},
     "output_type": "execute_result"
    }
   ],
   "source": [
    "# Napravit ćemo podjelu na True i False kao primjer za binarnu klasifikaciju.\n",
    "\n",
    "y_train_binary = y_train > 4.5\n",
    "y_train_binary[:5]\n",
    "\n",
    "y_test_binary = y_test > 4.5\n",
    "y_test_binary[:5]"
   ]
  },
  {
   "cell_type": "code",
   "execution_count": 78,
   "metadata": {},
   "outputs": [
    {
     "data": {
      "text/plain": [
       "0.85"
      ]
     },
     "execution_count": 78,
     "metadata": {},
     "output_type": "execute_result"
    }
   ],
   "source": [
    "from sklearn.neighbors import KNeighborsClassifier\n",
    "knc = KNeighborsClassifier(n_neighbors=3)\n",
    "knc.fit(X_train, y_train_binary.values.ravel())\n",
    "knc.score(X_test, y_test_binary.values.ravel())"
   ]
  },
  {
   "cell_type": "code",
   "execution_count": 79,
   "metadata": {},
   "outputs": [],
   "source": [
    "import keras\n",
    "\n",
    "from keras.models import Sequential # Sekvencijalni model neuronskih mreža\n",
    "from keras.layers import Dense # Sloj neuronske mreže"
   ]
  },
  {
   "cell_type": "code",
   "execution_count": 83,
   "metadata": {},
   "outputs": [
    {
     "name": "stdout",
     "output_type": "stream",
     "text": [
      "Epoch 1/40\n",
      "118/118 [==============================] - 0s 644us/step - loss: 0.2478 - accuracy: 0.6525\n",
      "Epoch 2/40\n",
      "118/118 [==============================] - 0s 136us/step - loss: 0.2386 - accuracy: 0.7881\n",
      "Epoch 3/40\n",
      "118/118 [==============================] - 0s 127us/step - loss: 0.2283 - accuracy: 0.7881\n",
      "Epoch 4/40\n",
      "118/118 [==============================] - 0s 127us/step - loss: 0.2162 - accuracy: 0.7881\n",
      "Epoch 5/40\n",
      "118/118 [==============================] - 0s 127us/step - loss: 0.2029 - accuracy: 0.7881\n",
      "Epoch 6/40\n",
      "118/118 [==============================] - 0s 119us/step - loss: 0.1905 - accuracy: 0.7881\n",
      "Epoch 7/40\n",
      "118/118 [==============================] - 0s 127us/step - loss: 0.1812 - accuracy: 0.7881\n",
      "Epoch 8/40\n",
      "118/118 [==============================] - 0s 127us/step - loss: 0.1734 - accuracy: 0.7881\n",
      "Epoch 9/40\n",
      "118/118 [==============================] - 0s 127us/step - loss: 0.1689 - accuracy: 0.7881\n",
      "Epoch 10/40\n",
      "118/118 [==============================] - 0s 127us/step - loss: 0.1644 - accuracy: 0.7881\n",
      "Epoch 11/40\n",
      "118/118 [==============================] - 0s 127us/step - loss: 0.1615 - accuracy: 0.7881\n",
      "Epoch 12/40\n",
      "118/118 [==============================] - 0s 127us/step - loss: 0.1582 - accuracy: 0.7881\n",
      "Epoch 13/40\n",
      "118/118 [==============================] - 0s 120us/step - loss: 0.1553 - accuracy: 0.7881\n",
      "Epoch 14/40\n",
      "118/118 [==============================] - 0s 127us/step - loss: 0.1523 - accuracy: 0.7881\n",
      "Epoch 15/40\n",
      "118/118 [==============================] - 0s 127us/step - loss: 0.1487 - accuracy: 0.7881\n",
      "Epoch 16/40\n",
      "118/118 [==============================] - 0s 127us/step - loss: 0.1450 - accuracy: 0.7881\n",
      "Epoch 17/40\n",
      "118/118 [==============================] - 0s 136us/step - loss: 0.1409 - accuracy: 0.7881\n",
      "Epoch 18/40\n",
      "118/118 [==============================] - 0s 127us/step - loss: 0.1363 - accuracy: 0.7881\n",
      "Epoch 19/40\n",
      "118/118 [==============================] - 0s 127us/step - loss: 0.1287 - accuracy: 0.7881\n",
      "Epoch 20/40\n",
      "118/118 [==============================] - 0s 127us/step - loss: 0.1216 - accuracy: 0.7881\n",
      "Epoch 21/40\n",
      "118/118 [==============================] - 0s 119us/step - loss: 0.1157 - accuracy: 0.7966\n",
      "Epoch 22/40\n",
      "118/118 [==============================] - 0s 127us/step - loss: 0.1106 - accuracy: 0.8051\n",
      "Epoch 23/40\n",
      "118/118 [==============================] - 0s 135us/step - loss: 0.1052 - accuracy: 0.8475\n",
      "Epoch 24/40\n",
      "118/118 [==============================] - 0s 119us/step - loss: 0.1010 - accuracy: 0.8983\n",
      "Epoch 25/40\n",
      "118/118 [==============================] - 0s 136us/step - loss: 0.0981 - accuracy: 0.8475\n",
      "Epoch 26/40\n",
      "118/118 [==============================] - 0s 127us/step - loss: 0.0934 - accuracy: 0.9153\n",
      "Epoch 27/40\n",
      "118/118 [==============================] - 0s 119us/step - loss: 0.0909 - accuracy: 0.9322\n",
      "Epoch 28/40\n",
      "118/118 [==============================] - 0s 127us/step - loss: 0.0894 - accuracy: 0.9068\n",
      "Epoch 29/40\n",
      "118/118 [==============================] - 0s 127us/step - loss: 0.0861 - accuracy: 0.9237\n",
      "Epoch 30/40\n",
      "118/118 [==============================] - 0s 127us/step - loss: 0.0838 - accuracy: 0.9322\n",
      "Epoch 31/40\n",
      "118/118 [==============================] - 0s 136us/step - loss: 0.0838 - accuracy: 0.9237\n",
      "Epoch 32/40\n",
      "118/118 [==============================] - 0s 136us/step - loss: 0.0814 - accuracy: 0.9068\n",
      "Epoch 33/40\n",
      "118/118 [==============================] - 0s 153us/step - loss: 0.0790 - accuracy: 0.9153\n",
      "Epoch 34/40\n",
      "118/118 [==============================] - 0s 127us/step - loss: 0.0780 - accuracy: 0.9068\n",
      "Epoch 35/40\n",
      "118/118 [==============================] - 0s 127us/step - loss: 0.0761 - accuracy: 0.9322\n",
      "Epoch 36/40\n",
      "118/118 [==============================] - 0s 136us/step - loss: 0.0753 - accuracy: 0.9237\n",
      "Epoch 37/40\n",
      "118/118 [==============================] - 0s 144us/step - loss: 0.0740 - accuracy: 0.9153\n",
      "Epoch 38/40\n",
      "118/118 [==============================] - 0s 203us/step - loss: 0.0736 - accuracy: 0.9153\n",
      "Epoch 39/40\n",
      "118/118 [==============================] - 0s 153us/step - loss: 0.0727 - accuracy: 0.9237\n",
      "Epoch 40/40\n",
      "118/118 [==============================] - 0s 136us/step - loss: 0.0699 - accuracy: 0.9322\n"
     ]
    },
    {
     "data": {
      "text/plain": [
       "<keras.callbacks.callbacks.History at 0x1e558e8bbe0>"
      ]
     },
     "execution_count": 83,
     "metadata": {},
     "output_type": "execute_result"
    }
   ],
   "source": [
    "# Binarna klasifikacija\n",
    "\n",
    "classifier = Sequential() \n",
    "classifier.add(Dense(units=12, kernel_initializer='normal', activation='relu', input_dim=9))\n",
    "classifier.add(Dense(units=4, kernel_initializer='normal', activation='relu'))\n",
    "classifier.add(Dense(units=1, activation='sigmoid'))\n",
    "classifier.compile(optimizer='adam', loss='mean_squared_error', metrics=['accuracy'])\n",
    "\n",
    "classifier.fit(X_train, y_train_binary, batch_size=5, epochs=40)"
   ]
  },
  {
   "cell_type": "code",
   "execution_count": 84,
   "metadata": {},
   "outputs": [
    {
     "data": {
      "text/html": [
       "<div>\n",
       "<style scoped>\n",
       "    .dataframe tbody tr th:only-of-type {\n",
       "        vertical-align: middle;\n",
       "    }\n",
       "\n",
       "    .dataframe tbody tr th {\n",
       "        vertical-align: top;\n",
       "    }\n",
       "\n",
       "    .dataframe thead th {\n",
       "        text-align: right;\n",
       "    }\n",
       "</style>\n",
       "<table border=\"1\" class=\"dataframe\">\n",
       "  <thead>\n",
       "    <tr style=\"text-align: right;\">\n",
       "      <th></th>\n",
       "      <th>HappinessScore</th>\n",
       "    </tr>\n",
       "  </thead>\n",
       "  <tbody>\n",
       "    <tr>\n",
       "      <th>12</th>\n",
       "      <td>True</td>\n",
       "    </tr>\n",
       "    <tr>\n",
       "      <th>3</th>\n",
       "      <td>True</td>\n",
       "    </tr>\n",
       "    <tr>\n",
       "      <th>152</th>\n",
       "      <td>False</td>\n",
       "    </tr>\n",
       "    <tr>\n",
       "      <th>6</th>\n",
       "      <td>True</td>\n",
       "    </tr>\n",
       "    <tr>\n",
       "      <th>120</th>\n",
       "      <td>True</td>\n",
       "    </tr>\n",
       "  </tbody>\n",
       "</table>\n",
       "</div>"
      ],
      "text/plain": [
       "     HappinessScore\n",
       "12             True\n",
       "3              True\n",
       "152           False\n",
       "6              True\n",
       "120            True"
      ]
     },
     "execution_count": 84,
     "metadata": {},
     "output_type": "execute_result"
    }
   ],
   "source": [
    "y_test_binary[:5] # Prvih 5 stvarnih vrijednosti"
   ]
  },
  {
   "cell_type": "code",
   "execution_count": 87,
   "metadata": {},
   "outputs": [
    {
     "data": {
      "text/plain": [
       "array([[ True],\n",
       "       [ True],\n",
       "       [False],\n",
       "       [ True],\n",
       "       [False]])"
      ]
     },
     "execution_count": 87,
     "metadata": {},
     "output_type": "execute_result"
    }
   ],
   "source": [
    "classifier.predict(X_test_scaled[:5]) > 0.5 # Previđene vrijednosti"
   ]
  },
  {
   "cell_type": "code",
   "execution_count": 92,
   "metadata": {},
   "outputs": [
    {
     "name": "stdout",
     "output_type": "stream",
     "text": [
      "Epoch 1/40\n",
      "118/118 [==============================] - 0s 669us/step - loss: 29.5304 - mean_squared_error: 29.5304\n",
      "Epoch 2/40\n",
      "118/118 [==============================] - 0s 212us/step - loss: 27.9609 - mean_squared_error: 27.9610\n",
      "Epoch 3/40\n",
      "118/118 [==============================] - 0s 186us/step - loss: 24.8991 - mean_squared_error: 24.8991\n",
      "Epoch 4/40\n",
      "118/118 [==============================] - 0s 144us/step - loss: 20.0394 - mean_squared_error: 20.0394\n",
      "Epoch 5/40\n",
      "118/118 [==============================] - 0s 144us/step - loss: 13.7211 - mean_squared_error: 13.7211\n",
      "Epoch 6/40\n",
      "118/118 [==============================] - 0s 144us/step - loss: 7.7426 - mean_squared_error: 7.7426\n",
      "Epoch 7/40\n",
      "118/118 [==============================] - 0s 144us/step - loss: 3.9824 - mean_squared_error: 3.9824\n",
      "Epoch 8/40\n",
      "118/118 [==============================] - 0s 144us/step - loss: 2.5533 - mean_squared_error: 2.5533\n",
      "Epoch 9/40\n",
      "118/118 [==============================] - 0s 144us/step - loss: 2.2148 - mean_squared_error: 2.2148\n",
      "Epoch 10/40\n",
      "118/118 [==============================] - 0s 144us/step - loss: 1.9620 - mean_squared_error: 1.9620\n",
      "Epoch 11/40\n",
      "118/118 [==============================] - 0s 144us/step - loss: 1.6466 - mean_squared_error: 1.6466\n",
      "Epoch 12/40\n",
      "118/118 [==============================] - 0s 153us/step - loss: 1.2947 - mean_squared_error: 1.2947\n",
      "Epoch 13/40\n",
      "118/118 [==============================] - 0s 144us/step - loss: 0.9391 - mean_squared_error: 0.9391\n",
      "Epoch 14/40\n",
      "118/118 [==============================] - 0s 153us/step - loss: 0.6542 - mean_squared_error: 0.6542\n",
      "Epoch 15/40\n",
      "118/118 [==============================] - 0s 153us/step - loss: 0.4451 - mean_squared_error: 0.4451\n",
      "Epoch 16/40\n",
      "118/118 [==============================] - 0s 153us/step - loss: 0.2941 - mean_squared_error: 0.2941\n",
      "Epoch 17/40\n",
      "118/118 [==============================] - 0s 153us/step - loss: 0.1937 - mean_squared_error: 0.1937\n",
      "Epoch 18/40\n",
      "118/118 [==============================] - 0s 144us/step - loss: 0.1352 - mean_squared_error: 0.1352\n",
      "Epoch 19/40\n",
      "118/118 [==============================] - 0s 144us/step - loss: 0.0971 - mean_squared_error: 0.0971\n",
      "Epoch 20/40\n",
      "118/118 [==============================] - 0s 153us/step - loss: 0.0762 - mean_squared_error: 0.0762\n",
      "Epoch 21/40\n",
      "118/118 [==============================] - 0s 144us/step - loss: 0.0628 - mean_squared_error: 0.0628\n",
      "Epoch 22/40\n",
      "118/118 [==============================] - 0s 144us/step - loss: 0.0549 - mean_squared_error: 0.0549\n",
      "Epoch 23/40\n",
      "118/118 [==============================] - 0s 144us/step - loss: 0.0501 - mean_squared_error: 0.0501\n",
      "Epoch 24/40\n",
      "118/118 [==============================] - 0s 144us/step - loss: 0.0458 - mean_squared_error: 0.0458\n",
      "Epoch 25/40\n",
      "118/118 [==============================] - 0s 144us/step - loss: 0.0423 - mean_squared_error: 0.0423\n",
      "Epoch 26/40\n",
      "118/118 [==============================] - 0s 153us/step - loss: 0.0400 - mean_squared_error: 0.0400\n",
      "Epoch 27/40\n",
      "118/118 [==============================] - 0s 153us/step - loss: 0.0389 - mean_squared_error: 0.0389\n",
      "Epoch 28/40\n",
      "118/118 [==============================] - 0s 153us/step - loss: 0.0373 - mean_squared_error: 0.0373\n",
      "Epoch 29/40\n",
      "118/118 [==============================] - 0s 144us/step - loss: 0.0367 - mean_squared_error: 0.0367\n",
      "Epoch 30/40\n",
      "118/118 [==============================] - 0s 144us/step - loss: 0.0347 - mean_squared_error: 0.0347\n",
      "Epoch 31/40\n",
      "118/118 [==============================] - 0s 144us/step - loss: 0.0336 - mean_squared_error: 0.0336\n",
      "Epoch 32/40\n",
      "118/118 [==============================] - 0s 144us/step - loss: 0.0336 - mean_squared_error: 0.0336\n",
      "Epoch 33/40\n",
      "118/118 [==============================] - 0s 136us/step - loss: 0.0320 - mean_squared_error: 0.0320\n",
      "Epoch 34/40\n",
      "118/118 [==============================] - 0s 153us/step - loss: 0.0315 - mean_squared_error: 0.0315\n",
      "Epoch 35/40\n",
      "118/118 [==============================] - 0s 144us/step - loss: 0.0306 - mean_squared_error: 0.0306\n",
      "Epoch 36/40\n",
      "118/118 [==============================] - 0s 153us/step - loss: 0.0302 - mean_squared_error: 0.0302\n",
      "Epoch 37/40\n",
      "118/118 [==============================] - 0s 144us/step - loss: 0.0288 - mean_squared_error: 0.0288\n",
      "Epoch 38/40\n",
      "118/118 [==============================] - 0s 144us/step - loss: 0.0283 - mean_squared_error: 0.0283\n",
      "Epoch 39/40\n",
      "118/118 [==============================] - 0s 136us/step - loss: 0.0288 - mean_squared_error: 0.0288\n",
      "Epoch 40/40\n",
      "118/118 [==============================] - 0s 144us/step - loss: 0.0265 - mean_squared_error: 0.0265\n"
     ]
    },
    {
     "data": {
      "text/plain": [
       "<keras.callbacks.callbacks.History at 0x1e55a541fd0>"
      ]
     },
     "execution_count": 92,
     "metadata": {},
     "output_type": "execute_result"
    }
   ],
   "source": [
    "# Regresija\n",
    "\n",
    "regressor = Sequential() \n",
    "regressor.add(Dense(units=12, kernel_initializer='normal', activation='relu', input_dim=9))\n",
    "regressor.add(Dense(units=4, kernel_initializer='normal', activation='relu'))\n",
    "regressor.add(Dense(units=1))\n",
    "regressor.compile(optimizer='adam', loss='mean_squared_error', metrics=['mean_squared_error'])\n",
    "regressor.fit(X_train, y_train, batch_size=4, epochs=40)"
   ]
  },
  {
   "cell_type": "code",
   "execution_count": 93,
   "metadata": {},
   "outputs": [
    {
     "data": {
      "text/html": [
       "<div>\n",
       "<style scoped>\n",
       "    .dataframe tbody tr th:only-of-type {\n",
       "        vertical-align: middle;\n",
       "    }\n",
       "\n",
       "    .dataframe tbody tr th {\n",
       "        vertical-align: top;\n",
       "    }\n",
       "\n",
       "    .dataframe thead th {\n",
       "        text-align: right;\n",
       "    }\n",
       "</style>\n",
       "<table border=\"1\" class=\"dataframe\">\n",
       "  <thead>\n",
       "    <tr style=\"text-align: right;\">\n",
       "      <th></th>\n",
       "      <th>HappinessScore</th>\n",
       "    </tr>\n",
       "  </thead>\n",
       "  <tbody>\n",
       "    <tr>\n",
       "      <th>12</th>\n",
       "      <td>7.200</td>\n",
       "    </tr>\n",
       "    <tr>\n",
       "      <th>3</th>\n",
       "      <td>7.522</td>\n",
       "    </tr>\n",
       "    <tr>\n",
       "      <th>152</th>\n",
       "      <td>3.575</td>\n",
       "    </tr>\n",
       "    <tr>\n",
       "      <th>6</th>\n",
       "      <td>7.378</td>\n",
       "    </tr>\n",
       "    <tr>\n",
       "      <th>120</th>\n",
       "      <td>4.514</td>\n",
       "    </tr>\n",
       "  </tbody>\n",
       "</table>\n",
       "</div>"
      ],
      "text/plain": [
       "     HappinessScore\n",
       "12            7.200\n",
       "3             7.522\n",
       "152           3.575\n",
       "6             7.378\n",
       "120           4.514"
      ]
     },
     "execution_count": 93,
     "metadata": {},
     "output_type": "execute_result"
    }
   ],
   "source": [
    "y_test[:5] # Stvarne vrijednosti"
   ]
  },
  {
   "cell_type": "code",
   "execution_count": 94,
   "metadata": {},
   "outputs": [
    {
     "data": {
      "text/plain": [
       "array([[6.3057423 ],\n",
       "       [8.180779  ],\n",
       "       [0.34435347],\n",
       "       [7.5286345 ],\n",
       "       [0.3589827 ]], dtype=float32)"
      ]
     },
     "execution_count": 94,
     "metadata": {},
     "output_type": "execute_result"
    }
   ],
   "source": [
    "regressor.predict(X_test_scaled[:5]) # Previđene vrijednosti"
   ]
  },
  {
   "cell_type": "code",
   "execution_count": 95,
   "metadata": {},
   "outputs": [
    {
     "data": {
      "text/plain": [
       "[<keras.layers.core.Dense at 0x1e55956bcc0>,\n",
       " <keras.layers.core.Dense at 0x1e55956bd30>,\n",
       " <keras.layers.core.Dense at 0x1e55956bef0>]"
      ]
     },
     "execution_count": 95,
     "metadata": {},
     "output_type": "execute_result"
    }
   ],
   "source": [
    "regressor.layers"
   ]
  },
  {
   "cell_type": "code",
   "execution_count": 96,
   "metadata": {},
   "outputs": [
    {
     "name": "stdout",
     "output_type": "stream",
     "text": [
      "Model: \"sequential_14\"\n",
      "_________________________________________________________________\n",
      "Layer (type)                 Output Shape              Param #   \n",
      "=================================================================\n",
      "dense_40 (Dense)             (None, 12)                120       \n",
      "_________________________________________________________________\n",
      "dense_41 (Dense)             (None, 4)                 52        \n",
      "_________________________________________________________________\n",
      "dense_42 (Dense)             (None, 1)                 5         \n",
      "=================================================================\n",
      "Total params: 177\n",
      "Trainable params: 177\n",
      "Non-trainable params: 0\n",
      "_________________________________________________________________\n"
     ]
    }
   ],
   "source": [
    "regressor.summary()"
   ]
  }
 ],
 "metadata": {
  "colab": {
   "name": "DL01.ipynb",
   "provenance": []
  },
  "kernelspec": {
   "display_name": "Python 3",
   "language": "python",
   "name": "python3"
  },
  "language_info": {
   "codemirror_mode": {
    "name": "ipython",
    "version": 3
   },
   "file_extension": ".py",
   "mimetype": "text/x-python",
   "name": "python",
   "nbconvert_exporter": "python",
   "pygments_lexer": "ipython3",
   "version": "3.6.13"
  }
 },
 "nbformat": 4,
 "nbformat_minor": 1
}

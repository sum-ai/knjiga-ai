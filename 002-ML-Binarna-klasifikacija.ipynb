{
 "cells": [
  {
   "cell_type": "code",
   "execution_count": 1,
   "metadata": {},
   "outputs": [],
   "source": [
    "import pandas as pd"
   ]
  },
  {
   "cell_type": "code",
   "execution_count": 4,
   "metadata": {
    "colab": {
     "base_uri": "https://localhost:8080/",
     "height": 206
    },
    "id": "5Oyj7l3EnR3r",
    "outputId": "428a0423-bdc2-4e00-fc07-02cca28540d4"
   },
   "outputs": [
    {
     "data": {
      "text/html": [
       "<div>\n",
       "<style scoped>\n",
       "    .dataframe tbody tr th:only-of-type {\n",
       "        vertical-align: middle;\n",
       "    }\n",
       "\n",
       "    .dataframe tbody tr th {\n",
       "        vertical-align: top;\n",
       "    }\n",
       "\n",
       "    .dataframe thead th {\n",
       "        text-align: right;\n",
       "    }\n",
       "</style>\n",
       "<table border=\"1\" class=\"dataframe\">\n",
       "  <thead>\n",
       "    <tr style=\"text-align: right;\">\n",
       "      <th></th>\n",
       "      <th>Temperatura</th>\n",
       "      <th>Vlaga</th>\n",
       "      <th>Vjetar</th>\n",
       "      <th>Sunce</th>\n",
       "      <th>O3</th>\n",
       "      <th>NO</th>\n",
       "      <th>NO2</th>\n",
       "    </tr>\n",
       "  </thead>\n",
       "  <tbody>\n",
       "    <tr>\n",
       "      <th>0</th>\n",
       "      <td>18.0020</td>\n",
       "      <td>88.451</td>\n",
       "      <td>1.24944</td>\n",
       "      <td>-0.381952</td>\n",
       "      <td>37.3472</td>\n",
       "      <td>1.28611</td>\n",
       "      <td>7.8944</td>\n",
       "    </tr>\n",
       "    <tr>\n",
       "      <th>1</th>\n",
       "      <td>18.0028</td>\n",
       "      <td>88.772</td>\n",
       "      <td>0.99861</td>\n",
       "      <td>-0.366761</td>\n",
       "      <td>31.6889</td>\n",
       "      <td>1.36667</td>\n",
       "      <td>9.1917</td>\n",
       "    </tr>\n",
       "    <tr>\n",
       "      <th>2</th>\n",
       "      <td>17.9559</td>\n",
       "      <td>89.406</td>\n",
       "      <td>0.80806</td>\n",
       "      <td>-0.310337</td>\n",
       "      <td>27.6667</td>\n",
       "      <td>1.61944</td>\n",
       "      <td>11.1972</td>\n",
       "    </tr>\n",
       "    <tr>\n",
       "      <th>3</th>\n",
       "      <td>17.9171</td>\n",
       "      <td>89.896</td>\n",
       "      <td>0.55722</td>\n",
       "      <td>-0.373271</td>\n",
       "      <td>24.0667</td>\n",
       "      <td>1.86944</td>\n",
       "      <td>11.5667</td>\n",
       "    </tr>\n",
       "    <tr>\n",
       "      <th>4</th>\n",
       "      <td>17.8494</td>\n",
       "      <td>90.262</td>\n",
       "      <td>0.55056</td>\n",
       "      <td>-0.414504</td>\n",
       "      <td>23.1278</td>\n",
       "      <td>1.37500</td>\n",
       "      <td>11.7500</td>\n",
       "    </tr>\n",
       "  </tbody>\n",
       "</table>\n",
       "</div>"
      ],
      "text/plain": [
       "   Temperatura   Vlaga   Vjetar     Sunce       O3       NO      NO2\n",
       "0      18.0020  88.451  1.24944 -0.381952  37.3472  1.28611   7.8944\n",
       "1      18.0028  88.772  0.99861 -0.366761  31.6889  1.36667   9.1917\n",
       "2      17.9559  89.406  0.80806 -0.310337  27.6667  1.61944  11.1972\n",
       "3      17.9171  89.896  0.55722 -0.373271  24.0667  1.86944  11.5667\n",
       "4      17.8494  90.262  0.55056 -0.414504  23.1278  1.37500  11.7500"
      ]
     },
     "execution_count": 4,
     "metadata": {},
     "output_type": "execute_result"
    }
   ],
   "source": [
    "data = pd.read_csv('skupovi_podataka/meteo.csv', sep=';') # Nazivi stupaca su već definirani u CSV datoteci.\n",
    "data.head()"
   ]
  },
  {
   "cell_type": "code",
   "execution_count": null,
   "metadata": {
    "colab": {
     "base_uri": "https://localhost:8080/"
    },
    "id": "zqrYwmUWnsh0",
    "outputId": "223adae0-0726-403b-947f-c77c566076fb"
   },
   "outputs": [
    {
     "data": {
      "text/plain": [
       "25.0063"
      ]
     },
     "execution_count": 7,
     "metadata": {},
     "output_type": "execute_result"
    }
   ],
   "source": [
    "data['Temperatura'].median()\n",
    "# min je 14.5\n",
    "# max je 37\n",
    "# median je 25"
   ]
  },
  {
   "cell_type": "code",
   "execution_count": null,
   "metadata": {
    "colab": {
     "base_uri": "https://localhost:8080/",
     "height": 282
    },
    "id": "x3f5an8SpO9d",
    "outputId": "eec1d65d-88d7-4e0a-a87f-bad03b12ece0"
   },
   "outputs": [
    {
     "data": {
      "text/plain": [
       "<matplotlib.axes._subplots.AxesSubplot at 0x7f469fb15190>"
      ]
     },
     "execution_count": 8,
     "metadata": {},
     "output_type": "execute_result"
    },
    {
     "data": {
      "image/png": "[encoded data removed]",
      "text/plain": [
       "<Figure size 432x288 with 1 Axes>"
      ]
     },
     "metadata": {
      "needs_background": "light"
     },
     "output_type": "display_data"
    }
   ],
   "source": [
    "grafikon = pd.DataFrame({\n",
    "    'temp': data['Temperatura']\n",
    "})\n",
    "grafikon.plot.box()"
   ]
  },
  {
   "cell_type": "code",
   "execution_count": null,
   "metadata": {
    "colab": {
     "base_uri": "https://localhost:8080/"
    },
    "id": "mq1UCE6Vqwsq",
    "outputId": "3f39afa5-6bc2-4d49-91f8-e457db7ea2be"
   },
   "outputs": [
    {
     "name": "stdout",
     "output_type": "stream",
     "text": [
      "4 17 70\n"
     ]
    }
   ],
   "source": [
    "def generiraj_brojeve():\n",
    "  from random import randint\n",
    "\n",
    "  return (randint(0, 10), randint(10, 20), randint(50, 100))\n",
    "\n",
    "b1, b2, b3 = generiraj_brojeve()\n",
    "\n",
    "print (b1, b2, b3)"
   ]
  },
  {
   "cell_type": "code",
   "execution_count": null,
   "metadata": {
    "id": "haZ1cAUfrCH_"
   },
   "outputs": [],
   "source": [
    "# Vlaga\tVjetar\tSunce\tO3\tNO\tNO2"
   ]
  },
  {
   "cell_type": "code",
   "execution_count": null,
   "metadata": {
    "colab": {
     "base_uri": "https://localhost:8080/",
     "height": 206
    },
    "id": "ejfaoHO-qVXi",
    "outputId": "08f50a47-bf05-48de-e872-6a9b24d96c8c"
   },
   "outputs": [
    {
     "data": {
      "text/html": [
       "<div>\n",
       "<style scoped>\n",
       "    .dataframe tbody tr th:only-of-type {\n",
       "        vertical-align: middle;\n",
       "    }\n",
       "\n",
       "    .dataframe tbody tr th {\n",
       "        vertical-align: top;\n",
       "    }\n",
       "\n",
       "    .dataframe thead th {\n",
       "        text-align: right;\n",
       "    }\n",
       "</style>\n",
       "<table border=\"1\" class=\"dataframe\">\n",
       "  <thead>\n",
       "    <tr style=\"text-align: right;\">\n",
       "      <th></th>\n",
       "      <th>Vlaga</th>\n",
       "      <th>Vjetar</th>\n",
       "      <th>Sunce</th>\n",
       "      <th>O3</th>\n",
       "      <th>NO2</th>\n",
       "    </tr>\n",
       "  </thead>\n",
       "  <tbody>\n",
       "    <tr>\n",
       "      <th>541</th>\n",
       "      <td>60.4330</td>\n",
       "      <td>0.60667</td>\n",
       "      <td>684.3800</td>\n",
       "      <td>37.5833</td>\n",
       "      <td>6.61110</td>\n",
       "    </tr>\n",
       "    <tr>\n",
       "      <th>8295</th>\n",
       "      <td>27.5109</td>\n",
       "      <td>2.00389</td>\n",
       "      <td>671.9400</td>\n",
       "      <td>74.2580</td>\n",
       "      <td>3.37222</td>\n",
       "    </tr>\n",
       "    <tr>\n",
       "      <th>12468</th>\n",
       "      <td>38.3095</td>\n",
       "      <td>0.82028</td>\n",
       "      <td>1076.3300</td>\n",
       "      <td>70.7860</td>\n",
       "      <td>2.39167</td>\n",
       "    </tr>\n",
       "    <tr>\n",
       "      <th>4400</th>\n",
       "      <td>76.1770</td>\n",
       "      <td>1.62139</td>\n",
       "      <td>29.2101</td>\n",
       "      <td>42.9389</td>\n",
       "      <td>2.41944</td>\n",
       "    </tr>\n",
       "    <tr>\n",
       "      <th>25299</th>\n",
       "      <td>64.0520</td>\n",
       "      <td>2.46222</td>\n",
       "      <td>538.3900</td>\n",
       "      <td>41.6194</td>\n",
       "      <td>2.77222</td>\n",
       "    </tr>\n",
       "  </tbody>\n",
       "</table>\n",
       "</div>"
      ],
      "text/plain": [
       "         Vlaga   Vjetar      Sunce       O3      NO2\n",
       "541    60.4330  0.60667   684.3800  37.5833  6.61110\n",
       "8295   27.5109  2.00389   671.9400  74.2580  3.37222\n",
       "12468  38.3095  0.82028  1076.3300  70.7860  2.39167\n",
       "4400   76.1770  1.62139    29.2101  42.9389  2.41944\n",
       "25299  64.0520  2.46222   538.3900  41.6194  2.77222"
      ]
     },
     "execution_count": 9,
     "metadata": {},
     "output_type": "execute_result"
    }
   ],
   "source": [
    "from sklearn.model_selection import train_test_split\n",
    "X_train, X_test, y_train, y_test = train_test_split(data[['Vlaga', 'Vjetar', 'Sunce', 'O3', 'NO2']],\n",
    "                 data['Temperatura'], random_state=2)\n",
    "X_train.head()"
   ]
  },
  {
   "cell_type": "code",
   "execution_count": null,
   "metadata": {
    "colab": {
     "base_uri": "https://localhost:8080/"
    },
    "id": "xZ3sMOk9s0dc",
    "outputId": "0c45c66b-6c99-43cf-92d7-9fbfe7799cc8"
   },
   "outputs": [
    {
     "data": {
      "text/plain": [
       "10559    21.2674\n",
       "29315    27.5760\n",
       "20574    23.3743\n",
       "Name: Temperatura, dtype: float64"
      ]
     },
     "execution_count": 19,
     "metadata": {},
     "output_type": "execute_result"
    }
   ],
   "source": [
    "y_test.head(3)"
   ]
  },
  {
   "cell_type": "code",
   "execution_count": null,
   "metadata": {
    "colab": {
     "base_uri": "https://localhost:8080/"
    },
    "id": "Jw9cjoKdvPSc",
    "outputId": "54963f75-e9ff-4218-9739-604dd5b881d0"
   },
   "outputs": [
    {
     "data": {
      "text/plain": [
       "[1, 1, 0, 1, 1]"
      ]
     },
     "execution_count": 10,
     "metadata": {},
     "output_type": "execute_result"
    }
   ],
   "source": [
    "y_train_bin = []\n",
    "y_test_bin = []\n",
    "\n",
    "for redak in y_train:\n",
    "  if redak > 20:\n",
    "    y_train_bin.append(1)\n",
    "  else:\n",
    "    y_train_bin.append(0)\n",
    "\n",
    "for redak in y_test:\n",
    "  if redak > 20:\n",
    "    y_test_bin.append(1)\n",
    "  else:\n",
    "    y_test_bin.append(0)\n",
    "\n",
    "y_test_bin[-5:]"
   ]
  },
  {
   "cell_type": "code",
   "execution_count": null,
   "metadata": {
    "id": "D31yZpK-wdcN"
   },
   "outputs": [],
   "source": []
  },
  {
   "cell_type": "code",
   "execution_count": null,
   "metadata": {
    "colab": {
     "base_uri": "https://localhost:8080/"
    },
    "id": "OVPCSE-XtARF",
    "outputId": "b94be8f8-2fb0-47d4-a299-575c39decf8e"
   },
   "outputs": [
    {
     "data": {
      "text/plain": [
       "KNeighborsClassifier(n_neighbors=200)"
      ]
     },
     "execution_count": 11,
     "metadata": {},
     "output_type": "execute_result"
    }
   ],
   "source": [
    "from sklearn.neighbors import KNeighborsClassifier\n",
    "klasifikator = KNeighborsClassifier(n_neighbors=200)\n",
    "klasifikator.fit(X_train, y_train_bin)"
   ]
  },
  {
   "cell_type": "code",
   "execution_count": null,
   "metadata": {
    "colab": {
     "base_uri": "https://localhost:8080/"
    },
    "id": "bZscoV1GweBO",
    "outputId": "85e90c36-1467-4617-9dc4-2b07a31c7161"
   },
   "outputs": [
    {
     "data": {
      "text/plain": [
       "0.9346721209867361"
      ]
     },
     "execution_count": 12,
     "metadata": {},
     "output_type": "execute_result"
    }
   ],
   "source": [
    "preciznost = klasifikator.score(X_test, y_test_bin)\n",
    "preciznost"
   ]
  },
  {
   "cell_type": "markdown",
   "metadata": {
    "id": "Ga8hyE8ox-va"
   },
   "source": [
    "Pronaći najbolji K za brojeve od 1 do 40. Ispisati koji je to K i koja je preciznost."
   ]
  },
  {
   "cell_type": "code",
   "execution_count": null,
   "metadata": {
    "colab": {
     "base_uri": "https://localhost:8080/"
    },
    "id": "H5gnV7mRxCpW",
    "outputId": "b6a0c99d-6a8c-4b9e-9152-a24739c42ef2"
   },
   "outputs": [
    {
     "name": "stdout",
     "output_type": "stream",
     "text": [
      "         Vlaga   Vjetar    Sunce       O3      NO2\n",
      "10559  46.3316  2.93056  396.801  49.4167  1.05833\n",
      "18.002\n"
     ]
    }
   ],
   "source": [
    "print(X_test.head(1))\n",
    "print(y_test[0])"
   ]
  },
  {
   "cell_type": "code",
   "execution_count": null,
   "metadata": {
    "colab": {
     "base_uri": "https://localhost:8080/"
    },
    "id": "bnPVYZu0xQpS",
    "outputId": "6a7ce9c9-c817-4bbc-e9bc-ba7fa55e59c8"
   },
   "outputs": [
    {
     "name": "stderr",
     "output_type": "stream",
     "text": [
      "/usr/local/lib/python3.7/dist-packages/sklearn/base.py:446: UserWarning: X does not have valid feature names, but KNeighborsClassifier was fitted with feature names\n",
      "  \"X does not have valid feature names, but\"\n"
     ]
    },
    {
     "data": {
      "text/plain": [
       "array([0])"
      ]
     },
     "execution_count": 39,
     "metadata": {},
     "output_type": "execute_result"
    }
   ],
   "source": [
    "klasifikator.predict([[100, 290, 3, 49, 0]])"
   ]
  },
  {
   "cell_type": "code",
   "execution_count": null,
   "metadata": {
    "colab": {
     "base_uri": "https://localhost:8080/"
    },
    "id": "YbIVTa-wwwME",
    "outputId": "732093c2-a8a7-45b3-a22d-9ea258f82c19"
   },
   "outputs": [
    {
     "name": "stdout",
     "output_type": "stream",
     "text": [
      "Najbolji k= 4 , a preciznost mu je 0.964051072269741\n"
     ]
    }
   ],
   "source": [
    "max = 0\n",
    "najbolji_k = 1\n",
    "\n",
    "for k in range(1, 41):\n",
    "  klasifikator = KNeighborsClassifier(n_neighbors=k)\n",
    "  klasifikator.fit(X_train, y_train_bin)\n",
    "\n",
    "  preciznost = klasifikator.score(X_test, y_test_bin)\n",
    "\n",
    "  if preciznost > max:\n",
    "    max = preciznost\n",
    "    najbolji_k = k\n",
    "\n",
    "print(\"Najbolji k=\", najbolji_k, ', a preciznost mu je', max)"
   ]
  },
  {
   "cell_type": "code",
   "execution_count": null,
   "metadata": {
    "colab": {
     "base_uri": "https://localhost:8080/"
    },
    "id": "J0p6A0Dw1A5H",
    "outputId": "3b7a193e-ed6e-4d73-867b-00d7b642c857"
   },
   "outputs": [
    {
     "data": {
      "text/plain": [
       "DecisionTreeClassifier(max_depth=3)"
      ]
     },
     "execution_count": 22,
     "metadata": {},
     "output_type": "execute_result"
    }
   ],
   "source": [
    "from sklearn.tree import DecisionTreeClassifier\n",
    "klasifikator_2 = DecisionTreeClassifier(max_depth=3)\n",
    "klasifikator_2.fit(X_train, y_train_bin)"
   ]
  },
  {
   "cell_type": "code",
   "execution_count": null,
   "metadata": {
    "colab": {
     "base_uri": "https://localhost:8080/"
    },
    "id": "lpAVswaD1hkp",
    "outputId": "0d0e441c-2026-43d1-bcbe-56682195c96a"
   },
   "outputs": [
    {
     "name": "stdout",
     "output_type": "stream",
     "text": [
      "95.51 %\n"
     ]
    }
   ],
   "source": [
    "preciznost = klasifikator_2.score(X_test, y_test_bin)\n",
    "print(round(preciznost * 100, 2), '%')"
   ]
  },
  {
   "cell_type": "code",
   "execution_count": null,
   "metadata": {
    "colab": {
     "base_uri": "https://localhost:8080/"
    },
    "id": "0dbhTFBv2aTF",
    "outputId": "7a0f1993-5f8f-4e54-fec7-0453afae64bd"
   },
   "outputs": [
    {
     "name": "stdout",
     "output_type": "stream",
     "text": [
      "Najbolja dubina= 14 , a preciznost joj je 0.9582248667410438\n"
     ]
    }
   ],
   "source": [
    "max = 0\n",
    "najbolja_dub = 1\n",
    "\n",
    "for dubina in range(1, 41):\n",
    "  klasifikator_2 = DecisionTreeClassifier(max_depth=dubina)\n",
    "  klasifikator_2.fit(X_train, y_train_bin)\n",
    "\n",
    "  preciznost = klasifikator_2.score(X_test, y_test_bin)\n",
    "\n",
    "  if preciznost > max:\n",
    "    max = preciznost\n",
    "    najbolja_dub = dubina\n",
    "\n",
    "print(\"Najbolja dubina=\", najbolja_dub, ', a preciznost joj je', max)"
   ]
  },
  {
   "cell_type": "code",
   "execution_count": null,
   "metadata": {
    "colab": {
     "base_uri": "https://localhost:8080/",
     "height": 538
    },
    "id": "eTnL3LgD6QXD",
    "outputId": "e848d504-216f-40f3-c3d0-ccc5c442900f"
   },
   "outputs": [
    {
     "data": {
      "image/svg+xml": [
       "<?xml version=\"1.0\" encoding=\"UTF-8\" standalone=\"no\"?>\n",
       "<!DOCTYPE svg PUBLIC \"-//W3C//DTD SVG 1.1//EN\"\n",
       " \"http://www.w3.org/Graphics/SVG/1.1/DTD/svg11.dtd\">\n",
       "<!-- Generated by graphviz version 2.40.1 (20161225.0304)\n",
       " -->\n",
       "<!-- Title: Tree Pages: 1 -->\n",
       "<svg width=\"1241pt\" height=\"373pt\"\n",
       " viewBox=\"0.00 0.00 1240.50 373.00\" xmlns=\"http://www.w3.org/2000/svg\" xmlns:xlink=\"http://www.w3.org/1999/xlink\">\n",
       "<g id=\"graph0\" class=\"graph\" transform=\"scale(1 1) rotate(0) translate(4 369)\">\n",
       "<title>Tree</title>\n",
       "<polygon fill=\"#ffffff\" stroke=\"transparent\" points=\"-4,4 -4,-369 1236.5,-369 1236.5,4 -4,4\"/>\n",
       "<!-- 0 -->\n",
       "<g id=\"node1\" class=\"node\">\n",
       "<title>0</title>\n",
       "<polygon fill=\"#4ea7e8\" stroke=\"#000000\" points=\"688.5,-365 531.5,-365 531.5,-297 688.5,-297 688.5,-365\"/>\n",
       "<text text-anchor=\"middle\" x=\"610\" y=\"-349.8\" font-family=\"Helvetica,sans-Serif\" font-size=\"14.00\" fill=\"#000000\">Sunce &lt;= &#45;0.288</text>\n",
       "<text text-anchor=\"middle\" x=\"610\" y=\"-334.8\" font-family=\"Helvetica,sans-Serif\" font-size=\"14.00\" fill=\"#000000\">samples = 24200</text>\n",
       "<text text-anchor=\"middle\" x=\"610\" y=\"-319.8\" font-family=\"Helvetica,sans-Serif\" font-size=\"14.00\" fill=\"#000000\">value = [2325, 21875]</text>\n",
       "<text text-anchor=\"middle\" x=\"610\" y=\"-304.8\" font-family=\"Helvetica,sans-Serif\" font-size=\"14.00\" fill=\"#000000\">class = Ispod 20 C</text>\n",
       "</g>\n",
       "<!-- 1 -->\n",
       "<g id=\"node2\" class=\"node\">\n",
       "<title>1</title>\n",
       "<polygon fill=\"#fbede2\" stroke=\"#000000\" points=\"529.5,-261 380.5,-261 380.5,-193 529.5,-193 529.5,-261\"/>\n",
       "<text text-anchor=\"middle\" x=\"455\" y=\"-245.8\" font-family=\"Helvetica,sans-Serif\" font-size=\"14.00\" fill=\"#000000\">Vjetar &lt;= 2.159</text>\n",
       "<text text-anchor=\"middle\" x=\"455\" y=\"-230.8\" font-family=\"Helvetica,sans-Serif\" font-size=\"14.00\" fill=\"#000000\">samples = 2495</text>\n",
       "<text text-anchor=\"middle\" x=\"455\" y=\"-215.8\" font-family=\"Helvetica,sans-Serif\" font-size=\"14.00\" fill=\"#000000\">value = [1346, 1149]</text>\n",
       "<text text-anchor=\"middle\" x=\"455\" y=\"-200.8\" font-family=\"Helvetica,sans-Serif\" font-size=\"14.00\" fill=\"#000000\">class = Iznad 20 C</text>\n",
       "</g>\n",
       "<!-- 0&#45;&gt;1 -->\n",
       "<g id=\"edge1\" class=\"edge\">\n",
       "<title>0&#45;&gt;1</title>\n",
       "<path fill=\"none\" stroke=\"#000000\" d=\"M559.2472,-296.9465C544.929,-287.3395 529.2225,-276.8009 514.4437,-266.8848\"/>\n",
       "<polygon fill=\"#000000\" stroke=\"#000000\" points=\"516.1209,-263.7953 505.8668,-261.13 512.2207,-269.6081 516.1209,-263.7953\"/>\n",
       "<text text-anchor=\"middle\" x=\"510.6969\" y=\"-281.959\" font-family=\"Helvetica,sans-Serif\" font-size=\"14.00\" fill=\"#000000\">True</text>\n",
       "</g>\n",
       "<!-- 8 -->\n",
       "<g id=\"node9\" class=\"node\">\n",
       "<title>8</title>\n",
       "<polygon fill=\"#42a2e6\" stroke=\"#000000\" points=\"845.5,-261 696.5,-261 696.5,-193 845.5,-193 845.5,-261\"/>\n",
       "<text text-anchor=\"middle\" x=\"771\" y=\"-245.8\" font-family=\"Helvetica,sans-Serif\" font-size=\"14.00\" fill=\"#000000\">Vlaga &lt;= 68.572</text>\n",
       "<text text-anchor=\"middle\" x=\"771\" y=\"-230.8\" font-family=\"Helvetica,sans-Serif\" font-size=\"14.00\" fill=\"#000000\">samples = 21705</text>\n",
       "<text text-anchor=\"middle\" x=\"771\" y=\"-215.8\" font-family=\"Helvetica,sans-Serif\" font-size=\"14.00\" fill=\"#000000\">value = [979, 20726]</text>\n",
       "<text text-anchor=\"middle\" x=\"771\" y=\"-200.8\" font-family=\"Helvetica,sans-Serif\" font-size=\"14.00\" fill=\"#000000\">class = Ispod 20 C</text>\n",
       "</g>\n",
       "<!-- 0&#45;&gt;8 -->\n",
       "<g id=\"edge8\" class=\"edge\">\n",
       "<title>0&#45;&gt;8</title>\n",
       "<path fill=\"none\" stroke=\"#000000\" d=\"M662.7174,-296.9465C677.7288,-287.2497 694.2094,-276.6039 709.6854,-266.6069\"/>\n",
       "<polygon fill=\"#000000\" stroke=\"#000000\" points=\"711.6633,-269.496 718.1641,-261.13 707.8651,-263.6161 711.6633,-269.496\"/>\n",
       "<text text-anchor=\"middle\" x=\"712.907\" y=\"-281.871\" font-family=\"Helvetica,sans-Serif\" font-size=\"14.00\" fill=\"#000000\">False</text>\n",
       "</g>\n",
       "<!-- 2 -->\n",
       "<g id=\"node3\" class=\"node\">\n",
       "<title>2</title>\n",
       "<polygon fill=\"#d2e9f9\" stroke=\"#000000\" points=\"297,-157 157,-157 157,-89 297,-89 297,-157\"/>\n",
       "<text text-anchor=\"middle\" x=\"227\" y=\"-141.8\" font-family=\"Helvetica,sans-Serif\" font-size=\"14.00\" fill=\"#000000\">Vlaga &lt;= 73.879</text>\n",
       "<text text-anchor=\"middle\" x=\"227\" y=\"-126.8\" font-family=\"Helvetica,sans-Serif\" font-size=\"14.00\" fill=\"#000000\">samples = 1840</text>\n",
       "<text text-anchor=\"middle\" x=\"227\" y=\"-111.8\" font-family=\"Helvetica,sans-Serif\" font-size=\"14.00\" fill=\"#000000\">value = [801, 1039]</text>\n",
       "<text text-anchor=\"middle\" x=\"227\" y=\"-96.8\" font-family=\"Helvetica,sans-Serif\" font-size=\"14.00\" fill=\"#000000\">class = Ispod 20 C</text>\n",
       "</g>\n",
       "<!-- 1&#45;&gt;2 -->\n",
       "<g id=\"edge2\" class=\"edge\">\n",
       "<title>1&#45;&gt;2</title>\n",
       "<path fill=\"none\" stroke=\"#000000\" d=\"M380.3443,-192.9465C356.7258,-182.1732 330.5393,-170.2285 306.5888,-159.3037\"/>\n",
       "<polygon fill=\"#000000\" stroke=\"#000000\" points=\"307.7312,-155.9779 297.1804,-155.0121 304.8261,-162.3466 307.7312,-155.9779\"/>\n",
       "</g>\n",
       "<!-- 5 -->\n",
       "<g id=\"node6\" class=\"node\">\n",
       "<title>5</title>\n",
       "<polygon fill=\"#ea9a61\" stroke=\"#000000\" points=\"523.5,-157 386.5,-157 386.5,-89 523.5,-89 523.5,-157\"/>\n",
       "<text text-anchor=\"middle\" x=\"455\" y=\"-141.8\" font-family=\"Helvetica,sans-Serif\" font-size=\"14.00\" fill=\"#000000\">Sunce &lt;= &#45;0.863</text>\n",
       "<text text-anchor=\"middle\" x=\"455\" y=\"-126.8\" font-family=\"Helvetica,sans-Serif\" font-size=\"14.00\" fill=\"#000000\">samples = 655</text>\n",
       "<text text-anchor=\"middle\" x=\"455\" y=\"-111.8\" font-family=\"Helvetica,sans-Serif\" font-size=\"14.00\" fill=\"#000000\">value = [545, 110]</text>\n",
       "<text text-anchor=\"middle\" x=\"455\" y=\"-96.8\" font-family=\"Helvetica,sans-Serif\" font-size=\"14.00\" fill=\"#000000\">class = Iznad 20 C</text>\n",
       "</g>\n",
       "<!-- 1&#45;&gt;5 -->\n",
       "<g id=\"edge5\" class=\"edge\">\n",
       "<title>1&#45;&gt;5</title>\n",
       "<path fill=\"none\" stroke=\"#000000\" d=\"M455,-192.9465C455,-184.776 455,-175.9318 455,-167.3697\"/>\n",
       "<polygon fill=\"#000000\" stroke=\"#000000\" points=\"458.5001,-167.13 455,-157.13 451.5001,-167.13 458.5001,-167.13\"/>\n",
       "</g>\n",
       "<!-- 3 -->\n",
       "<g id=\"node4\" class=\"node\">\n",
       "<title>3</title>\n",
       "<polygon fill=\"#a4d2f3\" stroke=\"#000000\" points=\"140,-53 0,-53 0,0 140,0 140,-53\"/>\n",
       "<text text-anchor=\"middle\" x=\"70\" y=\"-37.8\" font-family=\"Helvetica,sans-Serif\" font-size=\"14.00\" fill=\"#000000\">samples = 1557</text>\n",
       "<text text-anchor=\"middle\" x=\"70\" y=\"-22.8\" font-family=\"Helvetica,sans-Serif\" font-size=\"14.00\" fill=\"#000000\">value = [547, 1010]</text>\n",
       "<text text-anchor=\"middle\" x=\"70\" y=\"-7.8\" font-family=\"Helvetica,sans-Serif\" font-size=\"14.00\" fill=\"#000000\">class = Ispod 20 C</text>\n",
       "</g>\n",
       "<!-- 2&#45;&gt;3 -->\n",
       "<g id=\"edge3\" class=\"edge\">\n",
       "<title>2&#45;&gt;3</title>\n",
       "<path fill=\"none\" stroke=\"#000000\" d=\"M171.6477,-88.9777C155.558,-79.0882 138.0434,-68.3229 122.1571,-58.5583\"/>\n",
       "<polygon fill=\"#000000\" stroke=\"#000000\" points=\"123.8704,-55.5032 113.5182,-53.2485 120.2049,-61.4667 123.8704,-55.5032\"/>\n",
       "</g>\n",
       "<!-- 4 -->\n",
       "<g id=\"node5\" class=\"node\">\n",
       "<title>4</title>\n",
       "<polygon fill=\"#e88f50\" stroke=\"#000000\" points=\"295.5,-53 158.5,-53 158.5,0 295.5,0 295.5,-53\"/>\n",
       "<text text-anchor=\"middle\" x=\"227\" y=\"-37.8\" font-family=\"Helvetica,sans-Serif\" font-size=\"14.00\" fill=\"#000000\">samples = 283</text>\n",
       "<text text-anchor=\"middle\" x=\"227\" y=\"-22.8\" font-family=\"Helvetica,sans-Serif\" font-size=\"14.00\" fill=\"#000000\">value = [254, 29]</text>\n",
       "<text text-anchor=\"middle\" x=\"227\" y=\"-7.8\" font-family=\"Helvetica,sans-Serif\" font-size=\"14.00\" fill=\"#000000\">class = Iznad 20 C</text>\n",
       "</g>\n",
       "<!-- 2&#45;&gt;4 -->\n",
       "<g id=\"edge4\" class=\"edge\">\n",
       "<title>2&#45;&gt;4</title>\n",
       "<path fill=\"none\" stroke=\"#000000\" d=\"M227,-88.9777C227,-80.7364 227,-71.887 227,-63.5153\"/>\n",
       "<polygon fill=\"#000000\" stroke=\"#000000\" points=\"230.5001,-63.2484 227,-53.2485 223.5001,-63.2485 230.5001,-63.2484\"/>\n",
       "</g>\n",
       "<!-- 6 -->\n",
       "<g id=\"node7\" class=\"node\">\n",
       "<title>6</title>\n",
       "<polygon fill=\"#e89152\" stroke=\"#000000\" points=\"450.5,-53 313.5,-53 313.5,0 450.5,0 450.5,-53\"/>\n",
       "<text text-anchor=\"middle\" x=\"382\" y=\"-37.8\" font-family=\"Helvetica,sans-Serif\" font-size=\"14.00\" fill=\"#000000\">samples = 575</text>\n",
       "<text text-anchor=\"middle\" x=\"382\" y=\"-22.8\" font-family=\"Helvetica,sans-Serif\" font-size=\"14.00\" fill=\"#000000\">value = [511, 64]</text>\n",
       "<text text-anchor=\"middle\" x=\"382\" y=\"-7.8\" font-family=\"Helvetica,sans-Serif\" font-size=\"14.00\" fill=\"#000000\">class = Iznad 20 C</text>\n",
       "</g>\n",
       "<!-- 5&#45;&gt;6 -->\n",
       "<g id=\"edge6\" class=\"edge\">\n",
       "<title>5&#45;&gt;6</title>\n",
       "<path fill=\"none\" stroke=\"#000000\" d=\"M429.2629,-88.9777C422.4744,-80.0039 415.1404,-70.3089 408.3216,-61.295\"/>\n",
       "<polygon fill=\"#000000\" stroke=\"#000000\" points=\"411.059,-59.1121 402.2346,-53.2485 405.4763,-63.3352 411.059,-59.1121\"/>\n",
       "</g>\n",
       "<!-- 7 -->\n",
       "<g id=\"node8\" class=\"node\">\n",
       "<title>7</title>\n",
       "<polygon fill=\"#cbe5f8\" stroke=\"#000000\" points=\"605.5,-53 468.5,-53 468.5,0 605.5,0 605.5,-53\"/>\n",
       "<text text-anchor=\"middle\" x=\"537\" y=\"-37.8\" font-family=\"Helvetica,sans-Serif\" font-size=\"14.00\" fill=\"#000000\">samples = 80</text>\n",
       "<text text-anchor=\"middle\" x=\"537\" y=\"-22.8\" font-family=\"Helvetica,sans-Serif\" font-size=\"14.00\" fill=\"#000000\">value = [34, 46]</text>\n",
       "<text text-anchor=\"middle\" x=\"537\" y=\"-7.8\" font-family=\"Helvetica,sans-Serif\" font-size=\"14.00\" fill=\"#000000\">class = Ispod 20 C</text>\n",
       "</g>\n",
       "<!-- 5&#45;&gt;7 -->\n",
       "<g id=\"edge7\" class=\"edge\">\n",
       "<title>5&#45;&gt;7</title>\n",
       "<path fill=\"none\" stroke=\"#000000\" d=\"M483.9101,-88.9777C491.6134,-79.9123 499.9419,-70.111 507.6676,-61.0192\"/>\n",
       "<polygon fill=\"#000000\" stroke=\"#000000\" points=\"510.4625,-63.1352 514.2707,-53.2485 505.1282,-58.6025 510.4625,-63.1352\"/>\n",
       "</g>\n",
       "<!-- 9 -->\n",
       "<g id=\"node10\" class=\"node\">\n",
       "<title>9</title>\n",
       "<polygon fill=\"#3e9fe6\" stroke=\"#000000\" points=\"845.5,-157 696.5,-157 696.5,-89 845.5,-89 845.5,-157\"/>\n",
       "<text text-anchor=\"middle\" x=\"771\" y=\"-141.8\" font-family=\"Helvetica,sans-Serif\" font-size=\"14.00\" fill=\"#000000\">O3 &lt;= 62.333</text>\n",
       "<text text-anchor=\"middle\" x=\"771\" y=\"-126.8\" font-family=\"Helvetica,sans-Serif\" font-size=\"14.00\" fill=\"#000000\">samples = 20330</text>\n",
       "<text text-anchor=\"middle\" x=\"771\" y=\"-111.8\" font-family=\"Helvetica,sans-Serif\" font-size=\"14.00\" fill=\"#000000\">value = [495, 19835]</text>\n",
       "<text text-anchor=\"middle\" x=\"771\" y=\"-96.8\" font-family=\"Helvetica,sans-Serif\" font-size=\"14.00\" fill=\"#000000\">class = Ispod 20 C</text>\n",
       "</g>\n",
       "<!-- 8&#45;&gt;9 -->\n",
       "<g id=\"edge9\" class=\"edge\">\n",
       "<title>8&#45;&gt;9</title>\n",
       "<path fill=\"none\" stroke=\"#000000\" d=\"M771,-192.9465C771,-184.776 771,-175.9318 771,-167.3697\"/>\n",
       "<polygon fill=\"#000000\" stroke=\"#000000\" points=\"774.5001,-167.13 771,-157.13 767.5001,-167.13 774.5001,-167.13\"/>\n",
       "</g>\n",
       "<!-- 12 -->\n",
       "<g id=\"node13\" class=\"node\">\n",
       "<title>12</title>\n",
       "<polygon fill=\"#a5d2f3\" stroke=\"#000000\" points=\"1077.5,-157 940.5,-157 940.5,-89 1077.5,-89 1077.5,-157\"/>\n",
       "<text text-anchor=\"middle\" x=\"1009\" y=\"-141.8\" font-family=\"Helvetica,sans-Serif\" font-size=\"14.00\" fill=\"#000000\">O3 &lt;= 35.176</text>\n",
       "<text text-anchor=\"middle\" x=\"1009\" y=\"-126.8\" font-family=\"Helvetica,sans-Serif\" font-size=\"14.00\" fill=\"#000000\">samples = 1375</text>\n",
       "<text text-anchor=\"middle\" x=\"1009\" y=\"-111.8\" font-family=\"Helvetica,sans-Serif\" font-size=\"14.00\" fill=\"#000000\">value = [484, 891]</text>\n",
       "<text text-anchor=\"middle\" x=\"1009\" y=\"-96.8\" font-family=\"Helvetica,sans-Serif\" font-size=\"14.00\" fill=\"#000000\">class = Ispod 20 C</text>\n",
       "</g>\n",
       "<!-- 8&#45;&gt;12 -->\n",
       "<g id=\"edge12\" class=\"edge\">\n",
       "<title>8&#45;&gt;12</title>\n",
       "<path fill=\"none\" stroke=\"#000000\" d=\"M845.6517,-194.3791C872.8418,-182.4977 903.6366,-169.0411 931.1014,-157.0397\"/>\n",
       "<polygon fill=\"#000000\" stroke=\"#000000\" points=\"932.516,-160.2412 940.2778,-153.0299 929.713,-153.8269 932.516,-160.2412\"/>\n",
       "</g>\n",
       "<!-- 10 -->\n",
       "<g id=\"node11\" class=\"node\">\n",
       "<title>10</title>\n",
       "<polygon fill=\"#45a3e7\" stroke=\"#000000\" points=\"764,-53 624,-53 624,0 764,0 764,-53\"/>\n",
       "<text text-anchor=\"middle\" x=\"694\" y=\"-37.8\" font-family=\"Helvetica,sans-Serif\" font-size=\"14.00\" fill=\"#000000\">samples = 8208</text>\n",
       "<text text-anchor=\"middle\" x=\"694\" y=\"-22.8\" font-family=\"Helvetica,sans-Serif\" font-size=\"14.00\" fill=\"#000000\">value = [464, 7744]</text>\n",
       "<text text-anchor=\"middle\" x=\"694\" y=\"-7.8\" font-family=\"Helvetica,sans-Serif\" font-size=\"14.00\" fill=\"#000000\">class = Ispod 20 C</text>\n",
       "</g>\n",
       "<!-- 9&#45;&gt;10 -->\n",
       "<g id=\"edge10\" class=\"edge\">\n",
       "<title>9&#45;&gt;10</title>\n",
       "<path fill=\"none\" stroke=\"#000000\" d=\"M743.8527,-88.9777C736.6922,-80.0039 728.9564,-70.3089 721.7639,-61.295\"/>\n",
       "<polygon fill=\"#000000\" stroke=\"#000000\" points=\"724.3163,-58.8821 715.3433,-53.2485 718.8446,-63.2481 724.3163,-58.8821\"/>\n",
       "</g>\n",
       "<!-- 11 -->\n",
       "<g id=\"node12\" class=\"node\">\n",
       "<title>11</title>\n",
       "<polygon fill=\"#3a9de5\" stroke=\"#000000\" points=\"922,-53 782,-53 782,0 922,0 922,-53\"/>\n",
       "<text text-anchor=\"middle\" x=\"852\" y=\"-37.8\" font-family=\"Helvetica,sans-Serif\" font-size=\"14.00\" fill=\"#000000\">samples = 12122</text>\n",
       "<text text-anchor=\"middle\" x=\"852\" y=\"-22.8\" font-family=\"Helvetica,sans-Serif\" font-size=\"14.00\" fill=\"#000000\">value = [31, 12091]</text>\n",
       "<text text-anchor=\"middle\" x=\"852\" y=\"-7.8\" font-family=\"Helvetica,sans-Serif\" font-size=\"14.00\" fill=\"#000000\">class = Ispod 20 C</text>\n",
       "</g>\n",
       "<!-- 9&#45;&gt;11 -->\n",
       "<g id=\"edge11\" class=\"edge\">\n",
       "<title>9&#45;&gt;11</title>\n",
       "<path fill=\"none\" stroke=\"#000000\" d=\"M799.5576,-88.9777C807.1669,-79.9123 815.3939,-70.111 823.0253,-61.0192\"/>\n",
       "<polygon fill=\"#000000\" stroke=\"#000000\" points=\"825.7995,-63.1581 829.5479,-53.2485 820.438,-58.6577 825.7995,-63.1581\"/>\n",
       "</g>\n",
       "<!-- 13 -->\n",
       "<g id=\"node14\" class=\"node\">\n",
       "<title>13</title>\n",
       "<polygon fill=\"#eca16b\" stroke=\"#000000\" points=\"1077.5,-53 940.5,-53 940.5,0 1077.5,0 1077.5,-53\"/>\n",
       "<text text-anchor=\"middle\" x=\"1009\" y=\"-37.8\" font-family=\"Helvetica,sans-Serif\" font-size=\"14.00\" fill=\"#000000\">samples = 286</text>\n",
       "<text text-anchor=\"middle\" x=\"1009\" y=\"-22.8\" font-family=\"Helvetica,sans-Serif\" font-size=\"14.00\" fill=\"#000000\">value = [228, 58]</text>\n",
       "<text text-anchor=\"middle\" x=\"1009\" y=\"-7.8\" font-family=\"Helvetica,sans-Serif\" font-size=\"14.00\" fill=\"#000000\">class = Iznad 20 C</text>\n",
       "</g>\n",
       "<!-- 12&#45;&gt;13 -->\n",
       "<g id=\"edge13\" class=\"edge\">\n",
       "<title>12&#45;&gt;13</title>\n",
       "<path fill=\"none\" stroke=\"#000000\" d=\"M1009,-88.9777C1009,-80.7364 1009,-71.887 1009,-63.5153\"/>\n",
       "<polygon fill=\"#000000\" stroke=\"#000000\" points=\"1012.5001,-63.2484 1009,-53.2485 1005.5001,-63.2485 1012.5001,-63.2484\"/>\n",
       "</g>\n",
       "<!-- 14 -->\n",
       "<g id=\"node15\" class=\"node\">\n",
       "<title>14</title>\n",
       "<polygon fill=\"#76bbed\" stroke=\"#000000\" points=\"1232.5,-53 1095.5,-53 1095.5,0 1232.5,0 1232.5,-53\"/>\n",
       "<text text-anchor=\"middle\" x=\"1164\" y=\"-37.8\" font-family=\"Helvetica,sans-Serif\" font-size=\"14.00\" fill=\"#000000\">samples = 1089</text>\n",
       "<text text-anchor=\"middle\" x=\"1164\" y=\"-22.8\" font-family=\"Helvetica,sans-Serif\" font-size=\"14.00\" fill=\"#000000\">value = [256, 833]</text>\n",
       "<text text-anchor=\"middle\" x=\"1164\" y=\"-7.8\" font-family=\"Helvetica,sans-Serif\" font-size=\"14.00\" fill=\"#000000\">class = Ispod 20 C</text>\n",
       "</g>\n",
       "<!-- 12&#45;&gt;14 -->\n",
       "<g id=\"edge14\" class=\"edge\">\n",
       "<title>12&#45;&gt;14</title>\n",
       "<path fill=\"none\" stroke=\"#000000\" d=\"M1063.6472,-88.9777C1079.5319,-79.0882 1096.8233,-68.3229 1112.5073,-58.5583\"/>\n",
       "<polygon fill=\"#000000\" stroke=\"#000000\" points=\"1114.3967,-61.505 1121.0361,-53.2485 1110.6971,-55.5625 1114.3967,-61.505\"/>\n",
       "</g>\n",
       "</g>\n",
       "</svg>\n"
      ],
      "text/plain": [
       "<graphviz.files.Source at 0x7f468bff4410>"
      ]
     },
     "execution_count": 23,
     "metadata": {},
     "output_type": "execute_result"
    }
   ],
   "source": [
    "from sklearn.tree import export_graphviz\n",
    "export_graphviz(klasifikator_2, out_file=\"stablo.dot\", class_names=[\"Iznad 20 C\", \"Ispod 20 C\"],\n",
    "                feature_names=['Vlaga', 'Vjetar', 'Sunce', 'O3', 'NO2'], impurity=False, filled=True)\n",
    "\n",
    "import graphviz\n",
    "with open(\"stablo.dot\") as f:\n",
    "    dot_graph = f.read()\n",
    "    \n",
    "graphviz.Source(dot_graph)"
   ]
  }
 ],
 "metadata": {
  "colab": {
   "name": "Copy of UI05.ipynb",
   "provenance": []
  },
  "kernelspec": {
   "display_name": "Python 3",
   "language": "python",
   "name": "python3"
  },
  "language_info": {
   "codemirror_mode": {
    "name": "ipython",
    "version": 3
   },
   "file_extension": ".py",
   "mimetype": "text/x-python",
   "name": "python",
   "nbconvert_exporter": "python",
   "pygments_lexer": "ipython3",
   "version": "3.6.13"
  }
 },
 "nbformat": 4,
 "nbformat_minor": 1
}

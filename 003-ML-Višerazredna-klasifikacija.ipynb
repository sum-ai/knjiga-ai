{
 "cells": [
  {
   "cell_type": "code",
   "execution_count": 1,
   "metadata": {},
   "outputs": [],
   "source": [
    "import pandas as pd"
   ]
  },
  {
   "cell_type": "code",
   "execution_count": 13,
   "metadata": {
    "colab": {
     "base_uri": "https://localhost:8080/",
     "height": 206
    },
    "id": "5Oyj7l3EnR3r",
    "outputId": "428a0423-bdc2-4e00-fc07-02cca28540d4"
   },
   "outputs": [
    {
     "data": {
      "text/html": [
       "<div>\n",
       "<style scoped>\n",
       "    .dataframe tbody tr th:only-of-type {\n",
       "        vertical-align: middle;\n",
       "    }\n",
       "\n",
       "    .dataframe tbody tr th {\n",
       "        vertical-align: top;\n",
       "    }\n",
       "\n",
       "    .dataframe thead th {\n",
       "        text-align: right;\n",
       "    }\n",
       "</style>\n",
       "<table border=\"1\" class=\"dataframe\">\n",
       "  <thead>\n",
       "    <tr style=\"text-align: right;\">\n",
       "      <th></th>\n",
       "      <th>Temperatura</th>\n",
       "      <th>Vlaga</th>\n",
       "      <th>Vjetar</th>\n",
       "      <th>Sunce</th>\n",
       "      <th>O3</th>\n",
       "      <th>NO</th>\n",
       "      <th>NO2</th>\n",
       "    </tr>\n",
       "  </thead>\n",
       "  <tbody>\n",
       "    <tr>\n",
       "      <th>0</th>\n",
       "      <td>18.0020</td>\n",
       "      <td>88.451</td>\n",
       "      <td>1.24944</td>\n",
       "      <td>-0.381952</td>\n",
       "      <td>37.3472</td>\n",
       "      <td>1.28611</td>\n",
       "      <td>7.8944</td>\n",
       "    </tr>\n",
       "    <tr>\n",
       "      <th>1</th>\n",
       "      <td>18.0028</td>\n",
       "      <td>88.772</td>\n",
       "      <td>0.99861</td>\n",
       "      <td>-0.366761</td>\n",
       "      <td>31.6889</td>\n",
       "      <td>1.36667</td>\n",
       "      <td>9.1917</td>\n",
       "    </tr>\n",
       "    <tr>\n",
       "      <th>2</th>\n",
       "      <td>17.9559</td>\n",
       "      <td>89.406</td>\n",
       "      <td>0.80806</td>\n",
       "      <td>-0.310337</td>\n",
       "      <td>27.6667</td>\n",
       "      <td>1.61944</td>\n",
       "      <td>11.1972</td>\n",
       "    </tr>\n",
       "    <tr>\n",
       "      <th>3</th>\n",
       "      <td>17.9171</td>\n",
       "      <td>89.896</td>\n",
       "      <td>0.55722</td>\n",
       "      <td>-0.373271</td>\n",
       "      <td>24.0667</td>\n",
       "      <td>1.86944</td>\n",
       "      <td>11.5667</td>\n",
       "    </tr>\n",
       "    <tr>\n",
       "      <th>4</th>\n",
       "      <td>17.8494</td>\n",
       "      <td>90.262</td>\n",
       "      <td>0.55056</td>\n",
       "      <td>-0.414504</td>\n",
       "      <td>23.1278</td>\n",
       "      <td>1.37500</td>\n",
       "      <td>11.7500</td>\n",
       "    </tr>\n",
       "  </tbody>\n",
       "</table>\n",
       "</div>"
      ],
      "text/plain": [
       "   Temperatura   Vlaga   Vjetar     Sunce       O3       NO      NO2\n",
       "0      18.0020  88.451  1.24944 -0.381952  37.3472  1.28611   7.8944\n",
       "1      18.0028  88.772  0.99861 -0.366761  31.6889  1.36667   9.1917\n",
       "2      17.9559  89.406  0.80806 -0.310337  27.6667  1.61944  11.1972\n",
       "3      17.9171  89.896  0.55722 -0.373271  24.0667  1.86944  11.5667\n",
       "4      17.8494  90.262  0.55056 -0.414504  23.1278  1.37500  11.7500"
      ]
     },
     "execution_count": 13,
     "metadata": {},
     "output_type": "execute_result"
    }
   ],
   "source": [
    "data = pd.read_csv('datasets/vjezba02-03.csv', sep=';') # Nazivi stupaca su već definirani u CSV datoteci.\n",
    "data.head()"
   ]
  },
  {
   "cell_type": "code",
   "execution_count": 3,
   "metadata": {
    "colab": {
     "base_uri": "https://localhost:8080/",
     "height": 206
    },
    "id": "ejfaoHO-qVXi",
    "outputId": "08f50a47-bf05-48de-e872-6a9b24d96c8c"
   },
   "outputs": [
    {
     "data": {
      "text/html": [
       "<div>\n",
       "<style scoped>\n",
       "    .dataframe tbody tr th:only-of-type {\n",
       "        vertical-align: middle;\n",
       "    }\n",
       "\n",
       "    .dataframe tbody tr th {\n",
       "        vertical-align: top;\n",
       "    }\n",
       "\n",
       "    .dataframe thead th {\n",
       "        text-align: right;\n",
       "    }\n",
       "</style>\n",
       "<table border=\"1\" class=\"dataframe\">\n",
       "  <thead>\n",
       "    <tr style=\"text-align: right;\">\n",
       "      <th></th>\n",
       "      <th>Vlaga</th>\n",
       "      <th>Vjetar</th>\n",
       "      <th>Sunce</th>\n",
       "      <th>O3</th>\n",
       "      <th>NO2</th>\n",
       "    </tr>\n",
       "  </thead>\n",
       "  <tbody>\n",
       "    <tr>\n",
       "      <th>541</th>\n",
       "      <td>60.4330</td>\n",
       "      <td>0.60667</td>\n",
       "      <td>684.3800</td>\n",
       "      <td>37.5833</td>\n",
       "      <td>6.61110</td>\n",
       "    </tr>\n",
       "    <tr>\n",
       "      <th>8295</th>\n",
       "      <td>27.5109</td>\n",
       "      <td>2.00389</td>\n",
       "      <td>671.9400</td>\n",
       "      <td>74.2580</td>\n",
       "      <td>3.37222</td>\n",
       "    </tr>\n",
       "    <tr>\n",
       "      <th>12468</th>\n",
       "      <td>38.3095</td>\n",
       "      <td>0.82028</td>\n",
       "      <td>1076.3300</td>\n",
       "      <td>70.7860</td>\n",
       "      <td>2.39167</td>\n",
       "    </tr>\n",
       "    <tr>\n",
       "      <th>4400</th>\n",
       "      <td>76.1770</td>\n",
       "      <td>1.62139</td>\n",
       "      <td>29.2101</td>\n",
       "      <td>42.9389</td>\n",
       "      <td>2.41944</td>\n",
       "    </tr>\n",
       "    <tr>\n",
       "      <th>25299</th>\n",
       "      <td>64.0520</td>\n",
       "      <td>2.46222</td>\n",
       "      <td>538.3900</td>\n",
       "      <td>41.6194</td>\n",
       "      <td>2.77222</td>\n",
       "    </tr>\n",
       "  </tbody>\n",
       "</table>\n",
       "</div>"
      ],
      "text/plain": [
       "         Vlaga   Vjetar      Sunce       O3      NO2\n",
       "541    60.4330  0.60667   684.3800  37.5833  6.61110\n",
       "8295   27.5109  2.00389   671.9400  74.2580  3.37222\n",
       "12468  38.3095  0.82028  1076.3300  70.7860  2.39167\n",
       "4400   76.1770  1.62139    29.2101  42.9389  2.41944\n",
       "25299  64.0520  2.46222   538.3900  41.6194  2.77222"
      ]
     },
     "execution_count": 3,
     "metadata": {},
     "output_type": "execute_result"
    }
   ],
   "source": [
    "from sklearn.model_selection import train_test_split\n",
    "X_train, X_test, y_train, y_test = train_test_split(data[['Vlaga', 'Vjetar', 'Sunce', 'O3', 'NO2']],\n",
    "                 data['Temperatura'], random_state=2)\n",
    "X_train.head()"
   ]
  },
  {
   "cell_type": "code",
   "execution_count": 5,
   "metadata": {
    "colab": {
     "base_uri": "https://localhost:8080/"
    },
    "id": "xZ3sMOk9s0dc",
    "outputId": "0c45c66b-6c99-43cf-92d7-9fbfe7799cc8"
   },
   "outputs": [
    {
     "data": {
      "text/plain": [
       "10559    21.2674\n",
       "29315    27.5760\n",
       "20574    23.3743\n",
       "14377    22.5085\n",
       "4306     22.4727\n",
       "Name: Temperatura, dtype: float64"
      ]
     },
     "execution_count": 5,
     "metadata": {},
     "output_type": "execute_result"
    }
   ],
   "source": [
    "y_test.head()"
   ]
  },
  {
   "cell_type": "markdown",
   "metadata": {},
   "source": [
    "Umjesto binarne klasifikacije (0 i 1), odnosno temp je manja od 20C ili veća, napravit ćemo 4 klase.\n",
    "\n",
    "1. klasa - < 15C\n",
    "2. klasa - >15 i < 25C\n",
    "3. klasa . >25 i < 35C\n",
    "4. klasa . >35C\n",
    "\n",
    "Pošto imamo 2 skupa, y_test i y_train, napravi funkciju koja će se zvati \"odredi_klase\" i koja prima skup kao argument, a vraća drugi niz sa klasama. Nakon toga napraviti stablo odluke dubine 7 i slučajnu šumu, usporediti točnost."
   ]
  },
  {
   "cell_type": "code",
   "execution_count": 6,
   "metadata": {
    "colab": {
     "base_uri": "https://localhost:8080/"
    },
    "id": "Jw9cjoKdvPSc",
    "outputId": "54963f75-e9ff-4218-9739-604dd5b881d0"
   },
   "outputs": [],
   "source": [
    "def odredi_klase(skup):\n",
    "  klase = []\n",
    "\n",
    "  for temperatura in skup:\n",
    "    if temperatura < 15:\n",
    "      klase.append(1)\n",
    "    elif temperatura < 25:\n",
    "      klase.append(2)\n",
    "    elif temperatura < 35:\n",
    "      klase.append(3)\n",
    "    else:\n",
    "      klase.append(4)\n",
    "\n",
    "  return klase"
   ]
  },
  {
   "cell_type": "code",
   "execution_count": 7,
   "metadata": {
    "id": "D31yZpK-wdcN"
   },
   "outputs": [
    {
     "data": {
      "text/plain": [
       "[2, 4, 3, 2, 2]"
      ]
     },
     "execution_count": 7,
     "metadata": {},
     "output_type": "execute_result"
    }
   ],
   "source": [
    "y_test_mc = odredi_klase(y_test)\n",
    "y_train_mc = odredi_klase(y_train)\n",
    "\n",
    "y_train_mc[:5]"
   ]
  },
  {
   "cell_type": "code",
   "execution_count": 10,
   "metadata": {},
   "outputs": [
    {
     "data": {
      "text/plain": [
       "0.872691211106979"
      ]
     },
     "execution_count": 10,
     "metadata": {},
     "output_type": "execute_result"
    }
   ],
   "source": [
    "from sklearn.neighbors import KNeighborsClassifier\n",
    "knc = KNeighborsClassifier(n_neighbors=200)\n",
    "knc.fit(X_train, y_train_mc)\n",
    "\n",
    "preciznost = knc.score(X_test, y_test_mc)\n",
    "preciznost"
   ]
  },
  {
   "cell_type": "code",
   "execution_count": 11,
   "metadata": {
    "colab": {
     "base_uri": "https://localhost:8080/"
    },
    "id": "bZscoV1GweBO",
    "outputId": "85e90c36-1467-4617-9dc4-2b07a31c7161"
   },
   "outputs": [
    {
     "data": {
      "text/plain": [
       "0.9227717862898227"
      ]
     },
     "execution_count": 11,
     "metadata": {},
     "output_type": "execute_result"
    }
   ],
   "source": [
    "from sklearn.tree import DecisionTreeClassifier\n",
    "stablo = DecisionTreeClassifier(max_depth=12)\n",
    "stablo.fit(X_train, y_train_mc)\n",
    "\n",
    "preciznost = stablo.score(X_test, y_test_mc)\n",
    "preciznost"
   ]
  },
  {
   "cell_type": "code",
   "execution_count": 12,
   "metadata": {},
   "outputs": [
    {
     "data": {
      "text/plain": [
       "0.9435973720094211"
      ]
     },
     "execution_count": 12,
     "metadata": {},
     "output_type": "execute_result"
    }
   ],
   "source": [
    "from sklearn.ensemble import RandomForestClassifier\n",
    "slucajna_suma = RandomForestClassifier()\n",
    "slucajna_suma.fit(X_train, y_train_mc)\n",
    "\n",
    "preciznost = slucajna_suma.score(X_test, y_test_mc)\n",
    "preciznost"
   ]
  }
 ],
 "metadata": {
  "colab": {
   "name": "Copy of UI05.ipynb",
   "provenance": []
  },
  "kernelspec": {
   "display_name": "Python 3",
   "language": "python",
   "name": "python3"
  },
  "language_info": {
   "codemirror_mode": {
    "name": "ipython",
    "version": 3
   },
   "file_extension": ".py",
   "mimetype": "text/x-python",
   "name": "python",
   "nbconvert_exporter": "python",
   "pygments_lexer": "ipython3",
   "version": "3.8.8"
  }
 },
 "nbformat": 4,
 "nbformat_minor": 1
}
